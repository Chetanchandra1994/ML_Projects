{
 "cells": [
  {
   "cell_type": "code",
   "execution_count": 1,
   "id": "38b4f676",
   "metadata": {},
   "outputs": [],
   "source": [
    "import pandas as pd\n",
    "from sklearn.preprocessing import MinMaxScaler, StandardScaler, RobustScaler\n",
    "from sklearn.model_selection import train_test_split\n",
    "from sklearn.linear_model import LogisticRegression\n",
    "from sklearn.metrics import accuracy_score\n"
   ]
  },
  {
   "cell_type": "code",
   "execution_count": 2,
   "id": "f9be13cc",
   "metadata": {},
   "outputs": [],
   "source": [
    "\n",
    "# Load dataset (replace 'telecom_dataset.csv' with your dataset)\n",
    "telecom_data = pd.read_csv('telecom.csv')\n"
   ]
  },
  {
   "cell_type": "code",
   "execution_count": 5,
   "id": "a3142569",
   "metadata": {},
   "outputs": [
    {
     "name": "stdout",
     "output_type": "stream",
     "text": [
      "Value counts for column 'Account length':\n",
      "93     35\n",
      "105    33\n",
      "87     33\n",
      "101    32\n",
      "99     32\n",
      "       ..\n",
      "186     1\n",
      "6       1\n",
      "195     1\n",
      "243     1\n",
      "221     1\n",
      "Name: Account length, Length: 205, dtype: int64\n",
      "\n",
      "Value counts for column 'Area code':\n",
      "415    1318\n",
      "510     679\n",
      "408     669\n",
      "Name: Area code, dtype: int64\n",
      "\n",
      "Value counts for column 'Number vmail messages':\n",
      "0     1933\n",
      "31      50\n",
      "28      42\n",
      "29      39\n",
      "24      37\n",
      "33      37\n",
      "30      35\n",
      "27      34\n",
      "25      33\n",
      "32      33\n",
      "26      32\n",
      "23      30\n",
      "37      25\n",
      "22      24\n",
      "35      24\n",
      "34      23\n",
      "36      23\n",
      "38      22\n",
      "39      22\n",
      "21      22\n",
      "20      14\n",
      "19      14\n",
      "42      13\n",
      "40      13\n",
      "17      12\n",
      "16      11\n",
      "43       9\n",
      "15       8\n",
      "44       7\n",
      "41       7\n",
      "18       6\n",
      "12       6\n",
      "14       5\n",
      "45       4\n",
      "46       3\n",
      "47       3\n",
      "13       3\n",
      "8        2\n",
      "50       2\n",
      "9        2\n",
      "4        1\n",
      "10       1\n",
      "Name: Number vmail messages, dtype: int64\n",
      "\n",
      "Value counts for column 'Total day minutes':\n",
      "162.3    7\n",
      "183.4    7\n",
      "216.0    6\n",
      "175.4    6\n",
      "159.5    6\n",
      "        ..\n",
      "209.6    1\n",
      "247.0    1\n",
      "321.3    1\n",
      "150.9    1\n",
      "180.8    1\n",
      "Name: Total day minutes, Length: 1489, dtype: int64\n",
      "\n",
      "Value counts for column 'Total day calls':\n",
      "105    62\n",
      "106    59\n",
      "108    59\n",
      "112    58\n",
      "102    57\n",
      "       ..\n",
      "152     1\n",
      "40      1\n",
      "156     1\n",
      "157     1\n",
      "149     1\n",
      "Name: Total day calls, Length: 115, dtype: int64\n",
      "\n",
      "Value counts for column 'Total day charge':\n",
      "27.59    7\n",
      "31.18    7\n",
      "36.72    6\n",
      "29.82    6\n",
      "27.12    6\n",
      "        ..\n",
      "35.63    1\n",
      "41.99    1\n",
      "54.62    1\n",
      "25.65    1\n",
      "30.74    1\n",
      "Name: Total day charge, Length: 1489, dtype: int64\n",
      "\n",
      "Value counts for column 'Total eve minutes':\n",
      "169.9    8\n",
      "220.6    7\n",
      "167.2    7\n",
      "161.7    7\n",
      "224.9    6\n",
      "        ..\n",
      "125.8    1\n",
      "277.9    1\n",
      "269.5    1\n",
      "124.2    1\n",
      "265.9    1\n",
      "Name: Total eve minutes, Length: 1442, dtype: int64\n",
      "\n",
      "Value counts for column 'Total eve calls':\n",
      "105    64\n",
      "94     62\n",
      "109    58\n",
      "102    56\n",
      "108    55\n",
      "       ..\n",
      "49      1\n",
      "157     1\n",
      "12      1\n",
      "151     1\n",
      "170     1\n",
      "Name: Total eve calls, Length: 120, dtype: int64\n",
      "\n",
      "Value counts for column 'Total eve charge':\n",
      "16.12    9\n",
      "14.25    9\n",
      "18.62    8\n",
      "17.99    8\n",
      "18.96    8\n",
      "        ..\n",
      "7.67     1\n",
      "6.89     1\n",
      "18.93    1\n",
      "5.70     1\n",
      "22.60    1\n",
      "Name: Total eve charge, Length: 1301, dtype: int64\n",
      "\n",
      "Value counts for column 'Total night minutes':\n",
      "214.7    7\n",
      "181.2    6\n",
      "172.7    6\n",
      "210.0    6\n",
      "214.0    6\n",
      "        ..\n",
      "63.6     1\n",
      "111.6    1\n",
      "381.9    1\n",
      "186.1    1\n",
      "191.3    1\n",
      "Name: Total night minutes, Length: 1444, dtype: int64\n",
      "\n",
      "Value counts for column 'Total night calls':\n",
      "105    70\n",
      "104    67\n",
      "91     60\n",
      "106    58\n",
      "102    58\n",
      "       ..\n",
      "38      1\n",
      "36      1\n",
      "150     1\n",
      "48      1\n",
      "164     1\n",
      "Name: Total night calls, Length: 118, dtype: int64\n",
      "\n",
      "Value counts for column 'Total night charge':\n",
      "9.66     13\n",
      "8.88     11\n",
      "7.15     10\n",
      "9.63     10\n",
      "9.14     10\n",
      "         ..\n",
      "6.02      1\n",
      "15.71     1\n",
      "3.25      1\n",
      "10.66     1\n",
      "10.53     1\n",
      "Name: Total night charge, Length: 885, dtype: int64\n",
      "\n",
      "Value counts for column 'Total intl minutes':\n",
      "10.0    54\n",
      "10.2    47\n",
      "9.8     45\n",
      "11.5    43\n",
      "10.6    42\n",
      "        ..\n",
      "2.2      1\n",
      "20.0     1\n",
      "1.3      1\n",
      "4.0      1\n",
      "2.5      1\n",
      "Name: Total intl minutes, Length: 158, dtype: int64\n",
      "\n",
      "Value counts for column 'Total intl calls':\n",
      "3     544\n",
      "4     503\n",
      "2     388\n",
      "5     376\n",
      "6     267\n",
      "7     172\n",
      "1     125\n",
      "8      90\n",
      "9      83\n",
      "10     37\n",
      "11     25\n",
      "0      15\n",
      "13     13\n",
      "12     12\n",
      "14      5\n",
      "15      4\n",
      "18      2\n",
      "16      2\n",
      "19      1\n",
      "20      1\n",
      "17      1\n",
      "Name: Total intl calls, dtype: int64\n",
      "\n",
      "Value counts for column 'Total intl charge':\n",
      "2.70    54\n",
      "2.75    47\n",
      "2.65    45\n",
      "3.11    43\n",
      "2.86    42\n",
      "        ..\n",
      "0.59     1\n",
      "5.40     1\n",
      "0.35     1\n",
      "1.08     1\n",
      "0.68     1\n",
      "Name: Total intl charge, Length: 158, dtype: int64\n",
      "\n",
      "Value counts for column 'Customer service calls':\n",
      "1    945\n",
      "2    608\n",
      "0    555\n",
      "3    348\n",
      "4    133\n",
      "5     49\n",
      "6     17\n",
      "7      8\n",
      "9      2\n",
      "8      1\n",
      "Name: Customer service calls, dtype: int64\n",
      "\n",
      "Value counts for column 'Churn':\n",
      "False    2278\n",
      "True      388\n",
      "Name: Churn, dtype: int64\n",
      "\n"
     ]
    }
   ],
   "source": [
    "# Get value counts for all columns\n",
    "\n",
    "for column in telecom_data.columns:\n",
    "    print(f\"Value counts for column '{column}':\")\n",
    "    print(telecom_data[column].value_counts())\n",
    "    print()  # Empty line for readability\n"
   ]
  },
  {
   "cell_type": "code",
   "execution_count": null,
   "id": "b8b1ce50",
   "metadata": {},
   "outputs": [],
   "source": [
    "#Total intl calls,  Area code , Customer service calls, Churn"
   ]
  },
  {
   "cell_type": "code",
   "execution_count": 6,
   "id": "d53866d2",
   "metadata": {},
   "outputs": [
    {
     "data": {
      "text/plain": [
       "3     544\n",
       "4     503\n",
       "2     388\n",
       "5     376\n",
       "6     267\n",
       "7     172\n",
       "1     125\n",
       "8      90\n",
       "9      83\n",
       "10     37\n",
       "11     25\n",
       "0      15\n",
       "13     13\n",
       "12     12\n",
       "14      5\n",
       "15      4\n",
       "18      2\n",
       "16      2\n",
       "19      1\n",
       "20      1\n",
       "17      1\n",
       "Name: Total intl calls, dtype: int64"
      ]
     },
     "execution_count": 6,
     "metadata": {},
     "output_type": "execute_result"
    }
   ],
   "source": [
    "telecom_data['Total intl calls'].value_counts()"
   ]
  },
  {
   "cell_type": "code",
   "execution_count": 7,
   "id": "5921bb36",
   "metadata": {},
   "outputs": [
    {
     "data": {
      "text/plain": [
       "415    1318\n",
       "510     679\n",
       "408     669\n",
       "Name: Area code, dtype: int64"
      ]
     },
     "execution_count": 7,
     "metadata": {},
     "output_type": "execute_result"
    }
   ],
   "source": [
    "telecom_data['Area code'].value_counts()"
   ]
  },
  {
   "cell_type": "code",
   "execution_count": 8,
   "id": "abbe39de",
   "metadata": {},
   "outputs": [
    {
     "data": {
      "text/plain": [
       "1    945\n",
       "2    608\n",
       "0    555\n",
       "3    348\n",
       "4    133\n",
       "5     49\n",
       "6     17\n",
       "7      8\n",
       "9      2\n",
       "8      1\n",
       "Name: Customer service calls, dtype: int64"
      ]
     },
     "execution_count": 8,
     "metadata": {},
     "output_type": "execute_result"
    }
   ],
   "source": [
    "telecom_data['Customer service calls'].value_counts()"
   ]
  },
  {
   "cell_type": "code",
   "execution_count": 9,
   "id": "61af07c9",
   "metadata": {},
   "outputs": [
    {
     "data": {
      "text/plain": [
       "False    2278\n",
       "True      388\n",
       "Name: Churn, dtype: int64"
      ]
     },
     "execution_count": 9,
     "metadata": {},
     "output_type": "execute_result"
    }
   ],
   "source": [
    "telecom_data['Churn'].value_counts()"
   ]
  },
  {
   "cell_type": "code",
   "execution_count": 16,
   "id": "260b6ccc",
   "metadata": {},
   "outputs": [],
   "source": [
    "#import LabelEncoder\n",
    "from sklearn.preprocessing import LabelEncoder\n",
    "\n",
    "# Initialize LabelEncoder\n",
    "label_encoder = LabelEncoder()\n",
    "\n",
    "# Fit LabelEncoder and transform the 'Churn' column\n",
    "telecom_data['Churn'] = label_encoder.fit_transform(telecom_data['Churn'])\n"
   ]
  },
  {
   "cell_type": "code",
   "execution_count": 19,
   "id": "6af9dfab",
   "metadata": {},
   "outputs": [
    {
     "data": {
      "text/plain": [
       "0    2278\n",
       "1     388\n",
       "Name: Churn, dtype: int64"
      ]
     },
     "execution_count": 19,
     "metadata": {},
     "output_type": "execute_result"
    }
   ],
   "source": [
    "# Print the updated DataFrame\n",
    "telecom_data['Churn'].value_counts()"
   ]
  },
  {
   "cell_type": "code",
   "execution_count": 21,
   "id": "f5ebc2f2",
   "metadata": {},
   "outputs": [],
   "source": [
    "feature=['Total intl calls','Area code','Customer service calls']\n",
    "X=telecom_data[feature]\n",
    "y=telecom_data['Churn']\n",
    "\n",
    "#Total intl calls,  Area code , Customer service calls, Churn"
   ]
  },
  {
   "cell_type": "code",
   "execution_count": 22,
   "id": "f3be79b2",
   "metadata": {},
   "outputs": [
    {
     "data": {
      "text/html": [
       "<div>\n",
       "<style scoped>\n",
       "    .dataframe tbody tr th:only-of-type {\n",
       "        vertical-align: middle;\n",
       "    }\n",
       "\n",
       "    .dataframe tbody tr th {\n",
       "        vertical-align: top;\n",
       "    }\n",
       "\n",
       "    .dataframe thead th {\n",
       "        text-align: right;\n",
       "    }\n",
       "</style>\n",
       "<table border=\"1\" class=\"dataframe\">\n",
       "  <thead>\n",
       "    <tr style=\"text-align: right;\">\n",
       "      <th></th>\n",
       "      <th>Total intl calls</th>\n",
       "      <th>Area code</th>\n",
       "      <th>Customer service calls</th>\n",
       "    </tr>\n",
       "  </thead>\n",
       "  <tbody>\n",
       "    <tr>\n",
       "      <th>0</th>\n",
       "      <td>3</td>\n",
       "      <td>415</td>\n",
       "      <td>1</td>\n",
       "    </tr>\n",
       "    <tr>\n",
       "      <th>1</th>\n",
       "      <td>3</td>\n",
       "      <td>415</td>\n",
       "      <td>1</td>\n",
       "    </tr>\n",
       "    <tr>\n",
       "      <th>2</th>\n",
       "      <td>5</td>\n",
       "      <td>415</td>\n",
       "      <td>0</td>\n",
       "    </tr>\n",
       "    <tr>\n",
       "      <th>3</th>\n",
       "      <td>7</td>\n",
       "      <td>408</td>\n",
       "      <td>2</td>\n",
       "    </tr>\n",
       "    <tr>\n",
       "      <th>4</th>\n",
       "      <td>3</td>\n",
       "      <td>415</td>\n",
       "      <td>3</td>\n",
       "    </tr>\n",
       "    <tr>\n",
       "      <th>...</th>\n",
       "      <td>...</td>\n",
       "      <td>...</td>\n",
       "      <td>...</td>\n",
       "    </tr>\n",
       "    <tr>\n",
       "      <th>2661</th>\n",
       "      <td>5</td>\n",
       "      <td>415</td>\n",
       "      <td>2</td>\n",
       "    </tr>\n",
       "    <tr>\n",
       "      <th>2662</th>\n",
       "      <td>6</td>\n",
       "      <td>415</td>\n",
       "      <td>2</td>\n",
       "    </tr>\n",
       "    <tr>\n",
       "      <th>2663</th>\n",
       "      <td>4</td>\n",
       "      <td>415</td>\n",
       "      <td>3</td>\n",
       "    </tr>\n",
       "    <tr>\n",
       "      <th>2664</th>\n",
       "      <td>6</td>\n",
       "      <td>510</td>\n",
       "      <td>2</td>\n",
       "    </tr>\n",
       "    <tr>\n",
       "      <th>2665</th>\n",
       "      <td>4</td>\n",
       "      <td>415</td>\n",
       "      <td>0</td>\n",
       "    </tr>\n",
       "  </tbody>\n",
       "</table>\n",
       "<p>2666 rows × 3 columns</p>\n",
       "</div>"
      ],
      "text/plain": [
       "      Total intl calls  Area code  Customer service calls\n",
       "0                    3        415                       1\n",
       "1                    3        415                       1\n",
       "2                    5        415                       0\n",
       "3                    7        408                       2\n",
       "4                    3        415                       3\n",
       "...                ...        ...                     ...\n",
       "2661                 5        415                       2\n",
       "2662                 6        415                       2\n",
       "2663                 4        415                       3\n",
       "2664                 6        510                       2\n",
       "2665                 4        415                       0\n",
       "\n",
       "[2666 rows x 3 columns]"
      ]
     },
     "execution_count": 22,
     "metadata": {},
     "output_type": "execute_result"
    }
   ],
   "source": [
    "X"
   ]
  },
  {
   "cell_type": "code",
   "execution_count": 23,
   "id": "440c81e9",
   "metadata": {},
   "outputs": [
    {
     "data": {
      "text/plain": [
       "0       0\n",
       "1       0\n",
       "2       0\n",
       "3       0\n",
       "4       0\n",
       "       ..\n",
       "2661    0\n",
       "2662    0\n",
       "2663    0\n",
       "2664    0\n",
       "2665    0\n",
       "Name: Churn, Length: 2666, dtype: int64"
      ]
     },
     "execution_count": 23,
     "metadata": {},
     "output_type": "execute_result"
    }
   ],
   "source": [
    "y"
   ]
  },
  {
   "cell_type": "code",
   "execution_count": null,
   "id": "13e56df4",
   "metadata": {},
   "outputs": [],
   "source": []
  },
  {
   "cell_type": "code",
   "execution_count": 24,
   "id": "c9ca25a3",
   "metadata": {},
   "outputs": [],
   "source": [
    "\n",
    "# Split data into train and test sets\n",
    "X_train, X_test, y_train, y_test = train_test_split(X, y, test_size=0.2, random_state=42)\n"
   ]
  },
  {
   "cell_type": "code",
   "execution_count": 25,
   "id": "a9a0152d",
   "metadata": {},
   "outputs": [
    {
     "data": {
      "text/html": [
       "<div>\n",
       "<style scoped>\n",
       "    .dataframe tbody tr th:only-of-type {\n",
       "        vertical-align: middle;\n",
       "    }\n",
       "\n",
       "    .dataframe tbody tr th {\n",
       "        vertical-align: top;\n",
       "    }\n",
       "\n",
       "    .dataframe thead th {\n",
       "        text-align: right;\n",
       "    }\n",
       "</style>\n",
       "<table border=\"1\" class=\"dataframe\">\n",
       "  <thead>\n",
       "    <tr style=\"text-align: right;\">\n",
       "      <th></th>\n",
       "      <th>Total intl calls</th>\n",
       "      <th>Area code</th>\n",
       "      <th>Customer service calls</th>\n",
       "    </tr>\n",
       "  </thead>\n",
       "  <tbody>\n",
       "    <tr>\n",
       "      <th>1855</th>\n",
       "      <td>6</td>\n",
       "      <td>415</td>\n",
       "      <td>2</td>\n",
       "    </tr>\n",
       "    <tr>\n",
       "      <th>2244</th>\n",
       "      <td>6</td>\n",
       "      <td>415</td>\n",
       "      <td>1</td>\n",
       "    </tr>\n",
       "    <tr>\n",
       "      <th>2525</th>\n",
       "      <td>2</td>\n",
       "      <td>408</td>\n",
       "      <td>5</td>\n",
       "    </tr>\n",
       "    <tr>\n",
       "      <th>961</th>\n",
       "      <td>5</td>\n",
       "      <td>415</td>\n",
       "      <td>2</td>\n",
       "    </tr>\n",
       "    <tr>\n",
       "      <th>1618</th>\n",
       "      <td>2</td>\n",
       "      <td>415</td>\n",
       "      <td>1</td>\n",
       "    </tr>\n",
       "    <tr>\n",
       "      <th>...</th>\n",
       "      <td>...</td>\n",
       "      <td>...</td>\n",
       "      <td>...</td>\n",
       "    </tr>\n",
       "    <tr>\n",
       "      <th>1638</th>\n",
       "      <td>9</td>\n",
       "      <td>415</td>\n",
       "      <td>0</td>\n",
       "    </tr>\n",
       "    <tr>\n",
       "      <th>1095</th>\n",
       "      <td>6</td>\n",
       "      <td>510</td>\n",
       "      <td>1</td>\n",
       "    </tr>\n",
       "    <tr>\n",
       "      <th>1130</th>\n",
       "      <td>6</td>\n",
       "      <td>510</td>\n",
       "      <td>2</td>\n",
       "    </tr>\n",
       "    <tr>\n",
       "      <th>1294</th>\n",
       "      <td>5</td>\n",
       "      <td>510</td>\n",
       "      <td>2</td>\n",
       "    </tr>\n",
       "    <tr>\n",
       "      <th>860</th>\n",
       "      <td>4</td>\n",
       "      <td>510</td>\n",
       "      <td>2</td>\n",
       "    </tr>\n",
       "  </tbody>\n",
       "</table>\n",
       "<p>2132 rows × 3 columns</p>\n",
       "</div>"
      ],
      "text/plain": [
       "      Total intl calls  Area code  Customer service calls\n",
       "1855                 6        415                       2\n",
       "2244                 6        415                       1\n",
       "2525                 2        408                       5\n",
       "961                  5        415                       2\n",
       "1618                 2        415                       1\n",
       "...                ...        ...                     ...\n",
       "1638                 9        415                       0\n",
       "1095                 6        510                       1\n",
       "1130                 6        510                       2\n",
       "1294                 5        510                       2\n",
       "860                  4        510                       2\n",
       "\n",
       "[2132 rows x 3 columns]"
      ]
     },
     "execution_count": 25,
     "metadata": {},
     "output_type": "execute_result"
    }
   ],
   "source": [
    "X_train"
   ]
  },
  {
   "cell_type": "code",
   "execution_count": 26,
   "id": "adaa884b",
   "metadata": {},
   "outputs": [
    {
     "data": {
      "text/plain": [
       "0.7996999249812453"
      ]
     },
     "execution_count": 26,
     "metadata": {},
     "output_type": "execute_result"
    }
   ],
   "source": [
    "2132/2666"
   ]
  },
  {
   "cell_type": "code",
   "execution_count": 27,
   "id": "f0cd4b9f",
   "metadata": {},
   "outputs": [
    {
     "data": {
      "text/html": [
       "<div>\n",
       "<style scoped>\n",
       "    .dataframe tbody tr th:only-of-type {\n",
       "        vertical-align: middle;\n",
       "    }\n",
       "\n",
       "    .dataframe tbody tr th {\n",
       "        vertical-align: top;\n",
       "    }\n",
       "\n",
       "    .dataframe thead th {\n",
       "        text-align: right;\n",
       "    }\n",
       "</style>\n",
       "<table border=\"1\" class=\"dataframe\">\n",
       "  <thead>\n",
       "    <tr style=\"text-align: right;\">\n",
       "      <th></th>\n",
       "      <th>Total intl calls</th>\n",
       "      <th>Area code</th>\n",
       "      <th>Customer service calls</th>\n",
       "    </tr>\n",
       "  </thead>\n",
       "  <tbody>\n",
       "    <tr>\n",
       "      <th>2087</th>\n",
       "      <td>8</td>\n",
       "      <td>510</td>\n",
       "      <td>1</td>\n",
       "    </tr>\n",
       "    <tr>\n",
       "      <th>1915</th>\n",
       "      <td>5</td>\n",
       "      <td>415</td>\n",
       "      <td>0</td>\n",
       "    </tr>\n",
       "    <tr>\n",
       "      <th>479</th>\n",
       "      <td>5</td>\n",
       "      <td>415</td>\n",
       "      <td>1</td>\n",
       "    </tr>\n",
       "    <tr>\n",
       "      <th>1898</th>\n",
       "      <td>3</td>\n",
       "      <td>415</td>\n",
       "      <td>2</td>\n",
       "    </tr>\n",
       "    <tr>\n",
       "      <th>741</th>\n",
       "      <td>4</td>\n",
       "      <td>510</td>\n",
       "      <td>1</td>\n",
       "    </tr>\n",
       "    <tr>\n",
       "      <th>...</th>\n",
       "      <td>...</td>\n",
       "      <td>...</td>\n",
       "      <td>...</td>\n",
       "    </tr>\n",
       "    <tr>\n",
       "      <th>1196</th>\n",
       "      <td>6</td>\n",
       "      <td>415</td>\n",
       "      <td>1</td>\n",
       "    </tr>\n",
       "    <tr>\n",
       "      <th>958</th>\n",
       "      <td>3</td>\n",
       "      <td>415</td>\n",
       "      <td>3</td>\n",
       "    </tr>\n",
       "    <tr>\n",
       "      <th>861</th>\n",
       "      <td>3</td>\n",
       "      <td>510</td>\n",
       "      <td>0</td>\n",
       "    </tr>\n",
       "    <tr>\n",
       "      <th>1510</th>\n",
       "      <td>4</td>\n",
       "      <td>415</td>\n",
       "      <td>1</td>\n",
       "    </tr>\n",
       "    <tr>\n",
       "      <th>1992</th>\n",
       "      <td>6</td>\n",
       "      <td>415</td>\n",
       "      <td>1</td>\n",
       "    </tr>\n",
       "  </tbody>\n",
       "</table>\n",
       "<p>534 rows × 3 columns</p>\n",
       "</div>"
      ],
      "text/plain": [
       "      Total intl calls  Area code  Customer service calls\n",
       "2087                 8        510                       1\n",
       "1915                 5        415                       0\n",
       "479                  5        415                       1\n",
       "1898                 3        415                       2\n",
       "741                  4        510                       1\n",
       "...                ...        ...                     ...\n",
       "1196                 6        415                       1\n",
       "958                  3        415                       3\n",
       "861                  3        510                       0\n",
       "1510                 4        415                       1\n",
       "1992                 6        415                       1\n",
       "\n",
       "[534 rows x 3 columns]"
      ]
     },
     "execution_count": 27,
     "metadata": {},
     "output_type": "execute_result"
    }
   ],
   "source": [
    "X_test"
   ]
  },
  {
   "cell_type": "code",
   "execution_count": 28,
   "id": "bf7291f5",
   "metadata": {},
   "outputs": [
    {
     "data": {
      "text/plain": [
       "0.2003000750187547"
      ]
     },
     "execution_count": 28,
     "metadata": {},
     "output_type": "execute_result"
    }
   ],
   "source": [
    "534/2666"
   ]
  },
  {
   "cell_type": "code",
   "execution_count": 29,
   "id": "001bbcf9",
   "metadata": {},
   "outputs": [
    {
     "data": {
      "text/plain": [
       "1855    0\n",
       "2244    0\n",
       "2525    1\n",
       "961     0\n",
       "1618    0\n",
       "       ..\n",
       "1638    0\n",
       "1095    0\n",
       "1130    0\n",
       "1294    0\n",
       "860     0\n",
       "Name: Churn, Length: 2132, dtype: int64"
      ]
     },
     "execution_count": 29,
     "metadata": {},
     "output_type": "execute_result"
    }
   ],
   "source": [
    "y_train"
   ]
  },
  {
   "cell_type": "code",
   "execution_count": 30,
   "id": "f1e95f86",
   "metadata": {},
   "outputs": [
    {
     "data": {
      "text/plain": [
       "0.7996999249812453"
      ]
     },
     "execution_count": 30,
     "metadata": {},
     "output_type": "execute_result"
    }
   ],
   "source": [
    "2132/2666"
   ]
  },
  {
   "cell_type": "code",
   "execution_count": 31,
   "id": "1c15e912",
   "metadata": {},
   "outputs": [
    {
     "data": {
      "text/plain": [
       "2087    1\n",
       "1915    0\n",
       "479     0\n",
       "1898    1\n",
       "741     1\n",
       "       ..\n",
       "1196    0\n",
       "958     0\n",
       "861     0\n",
       "1510    0\n",
       "1992    1\n",
       "Name: Churn, Length: 534, dtype: int64"
      ]
     },
     "execution_count": 31,
     "metadata": {},
     "output_type": "execute_result"
    }
   ],
   "source": [
    "y_test"
   ]
  },
  {
   "cell_type": "code",
   "execution_count": 32,
   "id": "9cf66a33",
   "metadata": {},
   "outputs": [
    {
     "data": {
      "text/plain": [
       "0.2003000750187547"
      ]
     },
     "execution_count": 32,
     "metadata": {},
     "output_type": "execute_result"
    }
   ],
   "source": [
    "534/2666"
   ]
  },
  {
   "cell_type": "code",
   "execution_count": 33,
   "id": "5a2fad6b",
   "metadata": {},
   "outputs": [],
   "source": [
    "\n",
    "# Initialize scalers\n",
    "min_max_scaler = MinMaxScaler()\n",
    "standard_scaler = StandardScaler()\n",
    "robust_scaler = RobustScaler()\n"
   ]
  },
  {
   "cell_type": "code",
   "execution_count": null,
   "id": "39159088",
   "metadata": {},
   "outputs": [],
   "source": []
  },
  {
   "cell_type": "code",
   "execution_count": 34,
   "id": "bee677c9",
   "metadata": {},
   "outputs": [],
   "source": [
    "\n",
    "# Apply scaling to features\n",
    "X_train_minmax = min_max_scaler.fit_transform(X_train)\n",
    "X_test_minmax = min_max_scaler.transform(X_test)\n"
   ]
  },
  {
   "cell_type": "code",
   "execution_count": 35,
   "id": "1f67be65",
   "metadata": {},
   "outputs": [
    {
     "data": {
      "text/plain": [
       "array([[0.3       , 0.06862745, 0.22222222],\n",
       "       [0.3       , 0.06862745, 0.11111111],\n",
       "       [0.1       , 0.        , 0.55555556],\n",
       "       ...,\n",
       "       [0.3       , 1.        , 0.22222222],\n",
       "       [0.25      , 1.        , 0.22222222],\n",
       "       [0.2       , 1.        , 0.22222222]])"
      ]
     },
     "execution_count": 35,
     "metadata": {},
     "output_type": "execute_result"
    }
   ],
   "source": [
    "X_train_minmax "
   ]
  },
  {
   "cell_type": "code",
   "execution_count": 36,
   "id": "60c01ffd",
   "metadata": {},
   "outputs": [
    {
     "data": {
      "text/plain": [
       "array([[0.4       , 1.        , 0.11111111],\n",
       "       [0.25      , 0.06862745, 0.        ],\n",
       "       [0.25      , 0.06862745, 0.11111111],\n",
       "       ...,\n",
       "       [0.15      , 1.        , 0.        ],\n",
       "       [0.2       , 0.06862745, 0.11111111],\n",
       "       [0.3       , 0.06862745, 0.11111111]])"
      ]
     },
     "execution_count": 36,
     "metadata": {},
     "output_type": "execute_result"
    }
   ],
   "source": [
    "X_test_minmax"
   ]
  },
  {
   "cell_type": "code",
   "execution_count": 37,
   "id": "680ad9b5",
   "metadata": {},
   "outputs": [],
   "source": [
    "\n",
    "X_train_standard = standard_scaler.fit_transform(X_train)\n",
    "X_test_standard = standard_scaler.transform(X_test)\n",
    "\n",
    "X_train_robust = robust_scaler.fit_transform(X_train)\n",
    "X_test_robust = robust_scaler.transform(X_test)\n"
   ]
  },
  {
   "cell_type": "code",
   "execution_count": 38,
   "id": "e691f3f2",
   "metadata": {},
   "outputs": [
    {
     "data": {
      "text/plain": [
       "array([[ 0.61677678, -0.53379076,  0.3481153 ],\n",
       "       [ 0.61677678, -0.53379076, -0.42338348],\n",
       "       [-0.99915944, -0.69765905,  2.66261165],\n",
       "       ...,\n",
       "       [ 0.61677678,  1.69013609,  0.3481153 ],\n",
       "       [ 0.21279273,  1.69013609,  0.3481153 ],\n",
       "       [-0.19119133,  1.69013609,  0.3481153 ]])"
      ]
     },
     "execution_count": 38,
     "metadata": {},
     "output_type": "execute_result"
    }
   ],
   "source": [
    "X_train_standard"
   ]
  },
  {
   "cell_type": "code",
   "execution_count": 39,
   "id": "cc1914a9",
   "metadata": {},
   "outputs": [
    {
     "data": {
      "text/plain": [
       "array([[ 1.42474489,  1.69013609, -0.42338348],\n",
       "       [ 0.21279273, -0.53379076, -1.19488226],\n",
       "       [ 0.21279273, -0.53379076, -0.42338348],\n",
       "       ...,\n",
       "       [-0.59517538,  1.69013609, -1.19488226],\n",
       "       [-0.19119133, -0.53379076, -0.42338348],\n",
       "       [ 0.61677678, -0.53379076, -0.42338348]])"
      ]
     },
     "execution_count": 39,
     "metadata": {},
     "output_type": "execute_result"
    }
   ],
   "source": [
    "X_test_standard"
   ]
  },
  {
   "cell_type": "code",
   "execution_count": 40,
   "id": "edf4dd8f",
   "metadata": {},
   "outputs": [
    {
     "data": {
      "text/plain": [
       "array([[ 0.66666667,  0.        ,  1.        ],\n",
       "       [ 0.66666667,  0.        ,  0.        ],\n",
       "       [-0.66666667, -0.07235142,  4.        ],\n",
       "       ...,\n",
       "       [ 0.66666667,  0.98191214,  1.        ],\n",
       "       [ 0.33333333,  0.98191214,  1.        ],\n",
       "       [ 0.        ,  0.98191214,  1.        ]])"
      ]
     },
     "execution_count": 40,
     "metadata": {},
     "output_type": "execute_result"
    }
   ],
   "source": [
    "X_train_robust"
   ]
  },
  {
   "cell_type": "code",
   "execution_count": 41,
   "id": "42b0621a",
   "metadata": {},
   "outputs": [
    {
     "data": {
      "text/plain": [
       "array([[ 1.33333333,  0.98191214,  0.        ],\n",
       "       [ 0.33333333,  0.        , -1.        ],\n",
       "       [ 0.33333333,  0.        ,  0.        ],\n",
       "       ...,\n",
       "       [-0.33333333,  0.98191214, -1.        ],\n",
       "       [ 0.        ,  0.        ,  0.        ],\n",
       "       [ 0.66666667,  0.        ,  0.        ]])"
      ]
     },
     "execution_count": 41,
     "metadata": {},
     "output_type": "execute_result"
    }
   ],
   "source": [
    "X_test_robust"
   ]
  },
  {
   "cell_type": "code",
   "execution_count": 42,
   "id": "4d55f6c8",
   "metadata": {},
   "outputs": [],
   "source": [
    "\n",
    "# Example: Logistic Regression with different scaling methods\n",
    "log_reg = LogisticRegression()\n"
   ]
  },
  {
   "cell_type": "code",
   "execution_count": null,
   "id": "96178f17",
   "metadata": {},
   "outputs": [],
   "source": []
  },
  {
   "cell_type": "code",
   "execution_count": 43,
   "id": "2cb5f1f7",
   "metadata": {},
   "outputs": [],
   "source": [
    "\n",
    "# Fit the model and make predictions\n",
    "log_reg.fit(X_train_minmax, y_train)\n",
    "y_pred_minmax = log_reg.predict(X_test_minmax)\n",
    "accuracy_minmax = accuracy_score(y_test, y_pred_minmax)\n"
   ]
  },
  {
   "cell_type": "code",
   "execution_count": 44,
   "id": "469d33ec",
   "metadata": {},
   "outputs": [
    {
     "data": {
      "text/plain": [
       "array([0, 0, 0, 0, 0, 0, 0, 0, 0, 0, 0, 0, 0, 0, 0, 0, 0, 0, 0, 0, 0, 0,\n",
       "       0, 0, 0, 0, 0, 0, 0, 0, 0, 0, 0, 0, 0, 0, 0, 0, 0, 0, 0, 0, 0, 0,\n",
       "       0, 0, 0, 0, 0, 0, 0, 0, 0, 0, 0, 0, 0, 0, 0, 0, 0, 0, 0, 0, 0, 0,\n",
       "       0, 0, 0, 0, 0, 0, 0, 0, 0, 0, 0, 0, 0, 0, 0, 0, 0, 0, 0, 0, 0, 0,\n",
       "       0, 0, 0, 0, 0, 0, 0, 0, 0, 0, 0, 0, 0, 0, 0, 0, 0, 0, 0, 0, 0, 0,\n",
       "       0, 0, 0, 0, 0, 0, 0, 0, 0, 0, 0, 0, 0, 0, 0, 0, 0, 0, 0, 0, 0, 0,\n",
       "       0, 0, 0, 0, 0, 0, 0, 0, 0, 0, 0, 0, 0, 0, 0, 0, 0, 0, 0, 0, 0, 0,\n",
       "       0, 0, 0, 0, 0, 0, 0, 0, 0, 0, 0, 0, 0, 0, 0, 0, 0, 0, 0, 0, 0, 0,\n",
       "       0, 0, 0, 0, 0, 0, 0, 0, 0, 0, 0, 0, 0, 0, 0, 0, 0, 0, 0, 0, 0, 0,\n",
       "       0, 0, 0, 0, 0, 0, 0, 0, 0, 0, 0, 0, 0, 0, 0, 0, 0, 0, 0, 0, 0, 0,\n",
       "       0, 0, 0, 0, 0, 0, 0, 0, 0, 0, 0, 0, 0, 0, 0, 0, 0, 0, 0, 0, 0, 0,\n",
       "       0, 0, 0, 0, 0, 0, 0, 0, 0, 0, 0, 0, 0, 0, 0, 0, 0, 0, 0, 0, 0, 0,\n",
       "       0, 0, 0, 0, 0, 0, 0, 0, 0, 0, 0, 0, 0, 0, 0, 0, 0, 0, 0, 0, 0, 0,\n",
       "       0, 1, 0, 0, 0, 0, 0, 0, 0, 0, 0, 0, 0, 0, 0, 0, 0, 0, 0, 0, 0, 0,\n",
       "       0, 0, 0, 0, 0, 0, 0, 0, 0, 0, 0, 0, 0, 0, 0, 0, 0, 0, 0, 0, 0, 0,\n",
       "       0, 0, 0, 0, 0, 0, 0, 0, 0, 0, 0, 0, 0, 0, 0, 0, 0, 0, 0, 0, 0, 0,\n",
       "       0, 0, 0, 0, 0, 0, 0, 0, 0, 0, 0, 0, 0, 0, 0, 0, 0, 0, 0, 0, 0, 0,\n",
       "       0, 0, 0, 0, 0, 0, 0, 0, 0, 0, 0, 0, 0, 0, 0, 0, 0, 0, 0, 0, 0, 0,\n",
       "       0, 0, 0, 0, 0, 0, 0, 0, 0, 0, 0, 0, 0, 0, 0, 0, 0, 0, 0, 0, 0, 0,\n",
       "       0, 0, 0, 0, 0, 0, 0, 0, 0, 0, 0, 0, 0, 0, 0, 0, 0, 0, 0, 0, 0, 0,\n",
       "       0, 0, 0, 0, 0, 0, 0, 0, 0, 0, 0, 0, 0, 0, 0, 0, 0, 0, 0, 0, 0, 0,\n",
       "       0, 0, 0, 0, 0, 0, 0, 0, 0, 0, 0, 0, 0, 0, 0, 0, 0, 0, 0, 0, 0, 0,\n",
       "       0, 0, 0, 0, 0, 0, 0, 0, 0, 0, 0, 0, 0, 0, 0, 0, 0, 0, 0, 0, 0, 0,\n",
       "       0, 0, 0, 0, 0, 0, 0, 0, 0, 0, 0, 0, 0, 0, 0, 0, 0, 0, 0, 0, 0, 0,\n",
       "       0, 0, 0, 0, 0, 0], dtype=int64)"
      ]
     },
     "execution_count": 44,
     "metadata": {},
     "output_type": "execute_result"
    }
   ],
   "source": [
    "y_pred_minmax"
   ]
  },
  {
   "cell_type": "code",
   "execution_count": 45,
   "id": "6038716c",
   "metadata": {},
   "outputs": [
    {
     "data": {
      "text/plain": [
       "0.8539325842696629"
      ]
     },
     "execution_count": 45,
     "metadata": {},
     "output_type": "execute_result"
    }
   ],
   "source": [
    "accuracy_minmax"
   ]
  },
  {
   "cell_type": "code",
   "execution_count": null,
   "id": "5098e0c2",
   "metadata": {},
   "outputs": [],
   "source": []
  },
  {
   "cell_type": "code",
   "execution_count": null,
   "id": "278abb1c",
   "metadata": {},
   "outputs": [],
   "source": [
    "\n",
    "# Repeat for standard and robust scaling methods...\n"
   ]
  },
  {
   "cell_type": "code",
   "execution_count": 46,
   "id": "5d416409",
   "metadata": {},
   "outputs": [],
   "source": [
    "log_reg.fit(X_train_standard, y_train)\n",
    "y_pred_standard = log_reg.predict(X_test_standard)\n",
    "accuracy_standard = accuracy_score(y_test, y_pred_standard)\n"
   ]
  },
  {
   "cell_type": "code",
   "execution_count": 48,
   "id": "294717ff",
   "metadata": {},
   "outputs": [
    {
     "data": {
      "text/plain": [
       "0.8520599250936329"
      ]
     },
     "execution_count": 48,
     "metadata": {},
     "output_type": "execute_result"
    }
   ],
   "source": [
    "accuracy_standard"
   ]
  },
  {
   "cell_type": "code",
   "execution_count": null,
   "id": "945b4370",
   "metadata": {},
   "outputs": [],
   "source": [
    "# min_max_scaler = MinMaxScaler()\n",
    "# standard_scaler = StandardScaler()\n",
    "# robust_scaler = RobustScaler()"
   ]
  },
  {
   "cell_type": "code",
   "execution_count": 47,
   "id": "2bfe9f99",
   "metadata": {},
   "outputs": [],
   "source": [
    "log_reg.fit(X_train_robust, y_train)\n",
    "y_pred_robust = log_reg.predict(X_test_robust)\n",
    "accuracy_robust = accuracy_score(y_test, y_pred_robust)\n"
   ]
  },
  {
   "cell_type": "code",
   "execution_count": 49,
   "id": "ef98bc1e",
   "metadata": {},
   "outputs": [
    {
     "data": {
      "text/plain": [
       "0.8520599250936329"
      ]
     },
     "execution_count": 49,
     "metadata": {},
     "output_type": "execute_result"
    }
   ],
   "source": [
    "accuracy_robust"
   ]
  },
  {
   "cell_type": "code",
   "execution_count": 53,
   "id": "d112741e",
   "metadata": {},
   "outputs": [
    {
     "name": "stdout",
     "output_type": "stream",
     "text": [
      "Accuracy with Min-Max Scaling:  0.8539325842696629\n",
      "Accuracy with Standard Scaling: 0.8520599250936329\n",
      "Accuracy with Robust Scaling:   0.8520599250936329\n"
     ]
    }
   ],
   "source": [
    "\n",
    "# Evaluate accuracy for each scaling method\n",
    "print(\"Accuracy with Min-Max Scaling: \", accuracy_minmax)\n",
    "print(\"Accuracy with Standard Scaling:\", accuracy_standard)\n",
    "print(\"Accuracy with Robust Scaling:  \", accuracy_robust)\n"
   ]
  },
  {
   "cell_type": "code",
   "execution_count": null,
   "id": "b2da1c03",
   "metadata": {},
   "outputs": [],
   "source": []
  },
  {
   "cell_type": "code",
   "execution_count": null,
   "id": "a709d3ff",
   "metadata": {},
   "outputs": [],
   "source": []
  },
  {
   "cell_type": "code",
   "execution_count": null,
   "id": "a18a2ce2",
   "metadata": {},
   "outputs": [],
   "source": []
  },
  {
   "cell_type": "code",
   "execution_count": null,
   "id": "764d6026",
   "metadata": {},
   "outputs": [],
   "source": []
  },
  {
   "cell_type": "code",
   "execution_count": null,
   "id": "6e2e545e",
   "metadata": {},
   "outputs": [],
   "source": []
  },
  {
   "cell_type": "code",
   "execution_count": null,
   "id": "a8643eb0",
   "metadata": {},
   "outputs": [],
   "source": []
  }
 ],
 "metadata": {
  "kernelspec": {
   "display_name": "Python 3 (ipykernel)",
   "language": "python",
   "name": "python3"
  },
  "language_info": {
   "codemirror_mode": {
    "name": "ipython",
    "version": 3
   },
   "file_extension": ".py",
   "mimetype": "text/x-python",
   "name": "python",
   "nbconvert_exporter": "python",
   "pygments_lexer": "ipython3",
   "version": "3.11.4"
  }
 },
 "nbformat": 4,
 "nbformat_minor": 5
}
