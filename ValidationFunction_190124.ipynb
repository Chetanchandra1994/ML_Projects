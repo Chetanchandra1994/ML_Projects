{
  "nbformat": 4,
  "nbformat_minor": 0,
  "metadata": {
    "colab": {
      "provenance": []
    },
    "kernelspec": {
      "name": "python3",
      "display_name": "Python 3"
    },
    "language_info": {
      "name": "python"
    }
  },
  "cells": [
    {
      "cell_type": "markdown",
      "source": [
        "## In this notebook we will be creating functions to run the preprocessing in the validation/Testing set and to execute the model on the processed data\n",
        "\n",
        "1. Create a function to preprocess the data\n",
        "2. Create a function to run the model on the data"
      ],
      "metadata": {
        "id": "0fCeVxFzOu1e"
      }
    },
    {
      "cell_type": "code",
      "source": [
        "import pandas as pd\n",
        "import os\n",
        "import pickle\n",
        "import numpy as np"
      ],
      "metadata": {
        "id": "wHPiU8VdPGxF"
      },
      "execution_count": 83,
      "outputs": []
    },
    {
      "cell_type": "code",
      "source": [
        "#### Load the required files\n",
        "\n",
        "with open('column_encoder.pickle', 'rb') as f:\n",
        "  encoder = pickle.load(f)\n",
        "\n",
        "with open('column_unique_values.pickle', 'rb') as f:\n",
        "  uniq_values = pickle.load(f)\n",
        "\n",
        "with open('columns_to_remove.pickle', 'rb') as f:\n",
        "  cols_to_remove = pickle.load(f)\n",
        "\n",
        "with open('missing_value_replacement.pickle', 'rb') as f:\n",
        "  missing_replacement = pickle.load(f)\n",
        "\n",
        "with open('column_sequence.pickle', 'rb') as f:\n",
        "  column_seq = pickle.load(f)"
      ],
      "metadata": {
        "id": "1lIUIV1fPIO6"
      },
      "execution_count": 84,
      "outputs": []
    },
    {
      "cell_type": "code",
      "source": [
        "### Initialize the required predefined functions\n",
        "\n",
        "def children_numeric_converter(children_data, unique_values):\n",
        "  children_data[~(children_data.isin(unique_values))] = \"Zero\" # This replaces every other value to Zero\n",
        "  children_data[children_data=='Zero'] = 0  # Converts Zero to numeric 0\n",
        "  children_data[children_data=='4+'] = 4    # Converts 4+ to 4\n",
        "  children_data = pd.to_numeric(children_data) # Converts children_data to numeric\n",
        "  return children_data\n",
        "\n",
        "def ageband_numeric_converter(ageband_data, uniq_values):\n",
        "\n",
        "  def __split(x):\n",
        "    splits = x.split('-')\n",
        "    left_val = splits[0]\n",
        "    right_val = splits[1]\n",
        "    mean = (float(left_val) + float(right_val))/2\n",
        "    return mean\n",
        "\n",
        "  ageband_data[~(ageband_data.isin(uniq_values))] = '45-50'\n",
        "  ageband_data[ageband_data=='71+'] = '71-75'\n",
        "  ageband_data[ageband_data=='Unknown'] = '45-50'\n",
        "  mean_vals = ageband_data.apply(__split)\n",
        "  return mean_vals\n",
        "\n",
        "def gender_numeric_converter(gender_data, uniq_values):\n",
        "  gender_data[~(gender_data.isin(uniq_values))] = 'Female'\n",
        "  gender_data[gender_data=='Unknown'] = 'Female'\n",
        "  gender_data[gender_data=='Male'] = 0\n",
        "  gender_data[gender_data=='Female'] = 1\n",
        "  gender_data = pd.to_numeric(gender_data)\n",
        "  return gender_data"
      ],
      "metadata": {
        "id": "ciudn723POFL"
      },
      "execution_count": 85,
      "outputs": []
    },
    {
      "cell_type": "code",
      "source": [
        "### Preprocessing function\n",
        "\n",
        "def preprocess_val_test(data):\n",
        "  ### Drop columns ####\n",
        "  for column in cols_to_remove:\n",
        "    data.drop([column], axis=1, inplace=True)\n",
        "\n",
        "  children_uniq = uniq_values['children']\n",
        "  children_numeric = children_numeric_converter(data['children'], children_uniq)\n",
        "  data.drop(['children'], axis=1, inplace=True)\n",
        "  data['children'] = children_numeric\n",
        "\n",
        "  ageband_uniq = uniq_values['age_band']\n",
        "  ageband_numeric = ageband_numeric_converter(data['age_band'], ageband_uniq)\n",
        "  data.drop(['age_band'], axis=1, inplace=True)\n",
        "  data['age_band'] = ageband_numeric\n",
        "\n",
        "  gender_uniq = uniq_values['gender']\n",
        "  gender_numeric = gender_numeric_converter(data['gender'], gender_uniq)\n",
        "  data.drop(['gender'], axis=1, inplace=True)\n",
        "  data['gender'] = gender_numeric\n",
        "\n",
        "  ### Missing value Imputation ######\n",
        "  missing_value_columns = list(data.isnull().sum()[data.isnull().sum()>0].index)\n",
        "\n",
        "  for column in missing_value_columns:\n",
        "    replacement_values = missing_replacement[column]\n",
        "    if len(replacement_values) != 1:\n",
        "      replace_with = np.random.choice(replacement_values, data[column].isnull().sum())\n",
        "    else:\n",
        "      replace_with = replacement_values[0]\n",
        "    data[data[column].isnull(), column] = replace_with\n",
        "\n",
        "\n",
        "  #### One hot encoding ######\n",
        "  one_hot_converted_columns = ['status', 'occupation', 'occupation_partner', 'home_status', 'self_employed', 'self_employed_partner', 'TVarea', 'region', 'family_income']\n",
        "  encoded_data = pd.DataFrame(encoder.transform(data[one_hot_converted_columns]).toarray())\n",
        "  encoded_data.columns = encoder.get_feature_names_out()\n",
        "  data.drop(one_hot_converted_columns, axis=1, inplace=True)\n",
        "  data = pd.concat([data, encoded_data], axis=1)\n",
        "\n",
        "  ### Ensure that the column ordering and the columns are same #####\n",
        "  data = data[column_seq]\n",
        "\n",
        "  return data"
      ],
      "metadata": {
        "id": "ZusUemIRPLw3"
      },
      "execution_count": 86,
      "outputs": []
    },
    {
      "cell_type": "code",
      "source": [
        "##### Load the validation set\n",
        "##### Pass the validation set to the preprocess_test_val_funct\n",
        "\n",
        "features_val = pd.read_csv('features_val.csv')\n",
        "\n",
        "features_val = preprocess_val_test(features_val)\n",
        "\n",
        "##### Load the model here ######\n",
        "#### Predict from the model ######\n"
      ],
      "metadata": {
        "id": "cMfyoHW7ixi6",
        "colab": {
          "base_uri": "https://localhost:8080/"
        },
        "outputId": "5f47b6d0-6e03-4b83-d6c8-ac1c786d334b"
      },
      "execution_count": 87,
      "outputs": [
        {
          "output_type": "stream",
          "name": "stderr",
          "text": [
            "<ipython-input-85-2ee826ef6639>:4: SettingWithCopyWarning: \n",
            "A value is trying to be set on a copy of a slice from a DataFrame\n",
            "\n",
            "See the caveats in the documentation: https://pandas.pydata.org/pandas-docs/stable/user_guide/indexing.html#returning-a-view-versus-a-copy\n",
            "  children_data[~(children_data.isin(unique_values))] = \"Zero\" # This replaces every other value to Zero\n",
            "<ipython-input-85-2ee826ef6639>:5: SettingWithCopyWarning: \n",
            "A value is trying to be set on a copy of a slice from a DataFrame\n",
            "\n",
            "See the caveats in the documentation: https://pandas.pydata.org/pandas-docs/stable/user_guide/indexing.html#returning-a-view-versus-a-copy\n",
            "  children_data[children_data=='Zero'] = 0  # Converts Zero to numeric 0\n",
            "<ipython-input-85-2ee826ef6639>:6: SettingWithCopyWarning: \n",
            "A value is trying to be set on a copy of a slice from a DataFrame\n",
            "\n",
            "See the caveats in the documentation: https://pandas.pydata.org/pandas-docs/stable/user_guide/indexing.html#returning-a-view-versus-a-copy\n",
            "  children_data[children_data=='4+'] = 4    # Converts 4+ to 4\n",
            "<ipython-input-85-2ee826ef6639>:19: SettingWithCopyWarning: \n",
            "A value is trying to be set on a copy of a slice from a DataFrame\n",
            "\n",
            "See the caveats in the documentation: https://pandas.pydata.org/pandas-docs/stable/user_guide/indexing.html#returning-a-view-versus-a-copy\n",
            "  ageband_data[~(ageband_data.isin(uniq_values))] = '45-50'\n",
            "<ipython-input-85-2ee826ef6639>:20: SettingWithCopyWarning: \n",
            "A value is trying to be set on a copy of a slice from a DataFrame\n",
            "\n",
            "See the caveats in the documentation: https://pandas.pydata.org/pandas-docs/stable/user_guide/indexing.html#returning-a-view-versus-a-copy\n",
            "  ageband_data[ageband_data=='71+'] = '71-75'\n",
            "<ipython-input-85-2ee826ef6639>:21: SettingWithCopyWarning: \n",
            "A value is trying to be set on a copy of a slice from a DataFrame\n",
            "\n",
            "See the caveats in the documentation: https://pandas.pydata.org/pandas-docs/stable/user_guide/indexing.html#returning-a-view-versus-a-copy\n",
            "  ageband_data[ageband_data=='Unknown'] = '45-50'\n",
            "<ipython-input-85-2ee826ef6639>:26: SettingWithCopyWarning: \n",
            "A value is trying to be set on a copy of a slice from a DataFrame\n",
            "\n",
            "See the caveats in the documentation: https://pandas.pydata.org/pandas-docs/stable/user_guide/indexing.html#returning-a-view-versus-a-copy\n",
            "  gender_data[~(gender_data.isin(uniq_values))] = 'Female'\n",
            "<ipython-input-85-2ee826ef6639>:27: SettingWithCopyWarning: \n",
            "A value is trying to be set on a copy of a slice from a DataFrame\n",
            "\n",
            "See the caveats in the documentation: https://pandas.pydata.org/pandas-docs/stable/user_guide/indexing.html#returning-a-view-versus-a-copy\n",
            "  gender_data[gender_data=='Unknown'] = 'Female'\n",
            "<ipython-input-85-2ee826ef6639>:28: SettingWithCopyWarning: \n",
            "A value is trying to be set on a copy of a slice from a DataFrame\n",
            "\n",
            "See the caveats in the documentation: https://pandas.pydata.org/pandas-docs/stable/user_guide/indexing.html#returning-a-view-versus-a-copy\n",
            "  gender_data[gender_data=='Male'] = 0\n",
            "<ipython-input-85-2ee826ef6639>:29: SettingWithCopyWarning: \n",
            "A value is trying to be set on a copy of a slice from a DataFrame\n",
            "\n",
            "See the caveats in the documentation: https://pandas.pydata.org/pandas-docs/stable/user_guide/indexing.html#returning-a-view-versus-a-copy\n",
            "  gender_data[gender_data=='Female'] = 1\n"
          ]
        }
      ]
    },
    {
      "cell_type": "code",
      "source": [
        "features_val.info()"
      ],
      "metadata": {
        "colab": {
          "base_uri": "https://localhost:8080/"
        },
        "id": "6RH63q4dl7cm",
        "outputId": "a02593d2-6e26-49db-ad51-a2f705748a59"
      },
      "execution_count": 89,
      "outputs": [
        {
          "output_type": "stream",
          "name": "stdout",
          "text": [
            "<class 'pandas.core.frame.DataFrame'>\n",
            "RangeIndex: 2031 entries, 0 to 2030\n",
            "Data columns (total 90 columns):\n",
            " #   Column                                Non-Null Count  Dtype  \n",
            "---  ------                                --------------  -----  \n",
            " 0   age_band                              2031 non-null   float64\n",
            " 1   Average Credit Card Transaction       2031 non-null   float64\n",
            " 2   Balance Transfer                      2031 non-null   float64\n",
            " 3   Term Deposit                          2031 non-null   float64\n",
            " 4   Life Insurance                        2031 non-null   float64\n",
            " 5   Medical Insurance                     2031 non-null   float64\n",
            " 6   Average A/C Balance                   2031 non-null   float64\n",
            " 7   Personal Loan                         2031 non-null   float64\n",
            " 8   Investment in Mutual Fund             2031 non-null   float64\n",
            " 9   Investment Tax Saving Bond            2031 non-null   float64\n",
            " 10  Home Loan                             2031 non-null   float64\n",
            " 11  Online Purchase Amount                2031 non-null   float64\n",
            " 12  Investment in Commudity               2031 non-null   float64\n",
            " 13  Investment in Equity                  2031 non-null   float64\n",
            " 14  Investment in Derivative              2031 non-null   float64\n",
            " 15  Portfolio Balance                     2031 non-null   float64\n",
            " 16  children                              2031 non-null   int64  \n",
            " 17  gender                                2031 non-null   int64  \n",
            " 18  status_Divorced/Separated             2031 non-null   float64\n",
            " 19  status_Partner                        2031 non-null   float64\n",
            " 20  status_Single/Never Married           2031 non-null   float64\n",
            " 21  status_Unknown                        2031 non-null   float64\n",
            " 22  status_Widowed                        2031 non-null   float64\n",
            " 23  occupation_Business Manager           2031 non-null   float64\n",
            " 24  occupation_Housewife                  2031 non-null   float64\n",
            " 25  occupation_Manual Worker              2031 non-null   float64\n",
            " 26  occupation_Other                      2031 non-null   float64\n",
            " 27  occupation_Professional               2031 non-null   float64\n",
            " 28  occupation_Retired                    2031 non-null   float64\n",
            " 29  occupation_Secretarial/Admin          2031 non-null   float64\n",
            " 30  occupation_Student                    2031 non-null   float64\n",
            " 31  occupation_Unknown                    2031 non-null   float64\n",
            " 32  occupation_partner_Business Manager   2031 non-null   float64\n",
            " 33  occupation_partner_Housewife          2031 non-null   float64\n",
            " 34  occupation_partner_Manual Worker      2031 non-null   float64\n",
            " 35  occupation_partner_Other              2031 non-null   float64\n",
            " 36  occupation_partner_Professional       2031 non-null   float64\n",
            " 37  occupation_partner_Retired            2031 non-null   float64\n",
            " 38  occupation_partner_Secretarial/Admin  2031 non-null   float64\n",
            " 39  occupation_partner_Student            2031 non-null   float64\n",
            " 40  occupation_partner_Unknown            2031 non-null   float64\n",
            " 41  home_status_Live in Parental Hom      2031 non-null   float64\n",
            " 42  home_status_Own Home                  2031 non-null   float64\n",
            " 43  home_status_Rent Privately            2031 non-null   float64\n",
            " 44  home_status_Rent from Council/HA      2031 non-null   float64\n",
            " 45  home_status_Unclassified              2031 non-null   float64\n",
            " 46  self_employed_No                      2031 non-null   float64\n",
            " 47  self_employed_Yes                     2031 non-null   float64\n",
            " 48  self_employed_partner_No              2031 non-null   float64\n",
            " 49  self_employed_partner_Yes             2031 non-null   float64\n",
            " 50  TVarea_Anglia                         2031 non-null   float64\n",
            " 51  TVarea_Border                         2031 non-null   float64\n",
            " 52  TVarea_Carlton                        2031 non-null   float64\n",
            " 53  TVarea_Central                        2031 non-null   float64\n",
            " 54  TVarea_Grampian                       2031 non-null   float64\n",
            " 55  TVarea_Granada                        2031 non-null   float64\n",
            " 56  TVarea_HTV                            2031 non-null   float64\n",
            " 57  TVarea_Meridian                       2031 non-null   float64\n",
            " 58  TVarea_Scottish TV                    2031 non-null   float64\n",
            " 59  TVarea_TV South West                  2031 non-null   float64\n",
            " 60  TVarea_Tyne Tees                      2031 non-null   float64\n",
            " 61  TVarea_Ulster                         2031 non-null   float64\n",
            " 62  TVarea_Unknown                        2031 non-null   float64\n",
            " 63  TVarea_Yorkshire                      2031 non-null   float64\n",
            " 64  region_Channel Islands                2031 non-null   float64\n",
            " 65  region_East Anglia                    2031 non-null   float64\n",
            " 66  region_East Midlands                  2031 non-null   float64\n",
            " 67  region_Isle of Man                    2031 non-null   float64\n",
            " 68  region_North                          2031 non-null   float64\n",
            " 69  region_North West                     2031 non-null   float64\n",
            " 70  region_Northern Ireland               2031 non-null   float64\n",
            " 71  region_Scotland                       2031 non-null   float64\n",
            " 72  region_South East                     2031 non-null   float64\n",
            " 73  region_South West                     2031 non-null   float64\n",
            " 74  region_Unknown                        2031 non-null   float64\n",
            " 75  region_Wales                          2031 non-null   float64\n",
            " 76  region_West Midlands                  2031 non-null   float64\n",
            " 77  family_income_< 4,000                 2031 non-null   float64\n",
            " 78  family_income_< 8,000, >= 4,000       2031 non-null   float64\n",
            " 79  family_income_<10,000, >= 8,000       2031 non-null   float64\n",
            " 80  family_income_<12,500, >=10,000       2031 non-null   float64\n",
            " 81  family_income_<15,000, >=12,500       2031 non-null   float64\n",
            " 82  family_income_<17,500, >=15,000       2031 non-null   float64\n",
            " 83  family_income_<20,000, >=17,500       2031 non-null   float64\n",
            " 84  family_income_<22,500, >=20,000       2031 non-null   float64\n",
            " 85  family_income_<25,000, >=22,500       2031 non-null   float64\n",
            " 86  family_income_<27,500, >=25,000       2031 non-null   float64\n",
            " 87  family_income_<30,000, >=27,500       2031 non-null   float64\n",
            " 88  family_income_>=35,000                2031 non-null   float64\n",
            " 89  family_income_Unknown                 2031 non-null   float64\n",
            "dtypes: float64(88), int64(2)\n",
            "memory usage: 1.4 MB\n"
          ]
        }
      ]
    },
    {
      "cell_type": "code",
      "source": [],
      "metadata": {
        "id": "fH_E-XfXmRI1"
      },
      "execution_count": null,
      "outputs": []
    }
  ]
}