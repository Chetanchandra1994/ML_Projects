{
 "cells": [
  {
   "cell_type": "code",
   "execution_count": 1,
   "id": "b368ca24",
   "metadata": {},
   "outputs": [],
   "source": [
    "import numpy as np\n",
    "import pandas as pd\n",
    "import scipy.stats as stats\n",
    "import math\n",
    "import warnings\n",
    "import matplotlib.pyplot as plt\n",
    "import seaborn as sns"
   ]
  },
  {
   "cell_type": "code",
   "execution_count": 2,
   "id": "45eeac46",
   "metadata": {},
   "outputs": [],
   "source": [
    "warnings.filterwarnings(\"ignore\")"
   ]
  },
  {
   "cell_type": "code",
   "execution_count": 3,
   "id": "00aaf9ef",
   "metadata": {},
   "outputs": [
    {
     "data": {
      "text/html": [
       "<div>\n",
       "<style scoped>\n",
       "    .dataframe tbody tr th:only-of-type {\n",
       "        vertical-align: middle;\n",
       "    }\n",
       "\n",
       "    .dataframe tbody tr th {\n",
       "        vertical-align: top;\n",
       "    }\n",
       "\n",
       "    .dataframe thead th {\n",
       "        text-align: right;\n",
       "    }\n",
       "</style>\n",
       "<table border=\"1\" class=\"dataframe\">\n",
       "  <thead>\n",
       "    <tr style=\"text-align: right;\">\n",
       "      <th></th>\n",
       "      <th>GRIP</th>\n",
       "      <th>ARM</th>\n",
       "      <th>RATINGS</th>\n",
       "      <th>SIMS</th>\n",
       "    </tr>\n",
       "  </thead>\n",
       "  <tbody>\n",
       "    <tr>\n",
       "      <th>0</th>\n",
       "      <td>105.5</td>\n",
       "      <td>80.5</td>\n",
       "      <td>31.8</td>\n",
       "      <td>1.18</td>\n",
       "    </tr>\n",
       "    <tr>\n",
       "      <th>1</th>\n",
       "      <td>106.5</td>\n",
       "      <td>93.0</td>\n",
       "      <td>39.8</td>\n",
       "      <td>0.94</td>\n",
       "    </tr>\n",
       "    <tr>\n",
       "      <th>2</th>\n",
       "      <td>94.0</td>\n",
       "      <td>81.0</td>\n",
       "      <td>46.8</td>\n",
       "      <td>0.84</td>\n",
       "    </tr>\n",
       "    <tr>\n",
       "      <th>3</th>\n",
       "      <td>90.5</td>\n",
       "      <td>33.5</td>\n",
       "      <td>52.2</td>\n",
       "      <td>-2.45</td>\n",
       "    </tr>\n",
       "    <tr>\n",
       "      <th>4</th>\n",
       "      <td>104.0</td>\n",
       "      <td>47.5</td>\n",
       "      <td>31.2</td>\n",
       "      <td>1.00</td>\n",
       "    </tr>\n",
       "    <tr>\n",
       "      <th>...</th>\n",
       "      <td>...</td>\n",
       "      <td>...</td>\n",
       "      <td>...</td>\n",
       "      <td>...</td>\n",
       "    </tr>\n",
       "    <tr>\n",
       "      <th>270</th>\n",
       "      <td>105.0</td>\n",
       "      <td>73.0</td>\n",
       "      <td>51.4</td>\n",
       "      <td>-0.15</td>\n",
       "    </tr>\n",
       "    <tr>\n",
       "      <th>271</th>\n",
       "      <td>113.0</td>\n",
       "      <td>87.0</td>\n",
       "      <td>49.1</td>\n",
       "      <td>-0.25</td>\n",
       "    </tr>\n",
       "    <tr>\n",
       "      <th>272</th>\n",
       "      <td>133.5</td>\n",
       "      <td>96.5</td>\n",
       "      <td>44.6</td>\n",
       "      <td>2.27</td>\n",
       "    </tr>\n",
       "    <tr>\n",
       "      <th>273</th>\n",
       "      <td>89.5</td>\n",
       "      <td>63.5</td>\n",
       "      <td>37.8</td>\n",
       "      <td>-0.93</td>\n",
       "    </tr>\n",
       "    <tr>\n",
       "      <th>274</th>\n",
       "      <td>95.0</td>\n",
       "      <td>70.0</td>\n",
       "      <td>35.4</td>\n",
       "      <td>-0.58</td>\n",
       "    </tr>\n",
       "  </tbody>\n",
       "</table>\n",
       "<p>275 rows × 4 columns</p>\n",
       "</div>"
      ],
      "text/plain": [
       "      GRIP   ARM  RATINGS  SIMS\n",
       "0    105.5  80.5     31.8  1.18\n",
       "1    106.5  93.0     39.8  0.94\n",
       "2     94.0  81.0     46.8  0.84\n",
       "3     90.5  33.5     52.2 -2.45\n",
       "4    104.0  47.5     31.2  1.00\n",
       "..     ...   ...      ...   ...\n",
       "270  105.0  73.0     51.4 -0.15\n",
       "271  113.0  87.0     49.1 -0.25\n",
       "272  133.5  96.5     44.6  2.27\n",
       "273   89.5  63.5     37.8 -0.93\n",
       "274   95.0  70.0     35.4 -0.58\n",
       "\n",
       "[275 rows x 4 columns]"
      ]
     },
     "execution_count": 3,
     "metadata": {},
     "output_type": "execute_result"
    }
   ],
   "source": [
    "df = pd.read_excel(\"Case Study_1 dataset.xlsx\")\n",
    "df"
   ]
  },
  {
   "cell_type": "code",
   "execution_count": 4,
   "id": "0d905a5a",
   "metadata": {},
   "outputs": [
    {
     "name": "stdout",
     "output_type": "stream",
     "text": [
      "<class 'pandas.core.frame.DataFrame'>\n",
      "RangeIndex: 275 entries, 0 to 274\n",
      "Data columns (total 4 columns):\n",
      " #   Column   Non-Null Count  Dtype  \n",
      "---  ------   --------------  -----  \n",
      " 0   GRIP     275 non-null    float64\n",
      " 1   ARM      275 non-null    float64\n",
      " 2   RATINGS  275 non-null    float64\n",
      " 3   SIMS     275 non-null    float64\n",
      "dtypes: float64(4)\n",
      "memory usage: 8.7 KB\n"
     ]
    }
   ],
   "source": [
    "df.info()"
   ]
  },
  {
   "cell_type": "code",
   "execution_count": 5,
   "id": "ec20c515",
   "metadata": {},
   "outputs": [
    {
     "data": {
      "text/plain": [
       "0      105.5\n",
       "1      106.5\n",
       "2       94.0\n",
       "3       90.5\n",
       "4      104.0\n",
       "       ...  \n",
       "270    105.0\n",
       "271    113.0\n",
       "272    133.5\n",
       "273     89.5\n",
       "274     95.0\n",
       "Name: GRIP, Length: 275, dtype: float64"
      ]
     },
     "execution_count": 5,
     "metadata": {},
     "output_type": "execute_result"
    }
   ],
   "source": [
    "df['GRIP']"
   ]
  },
  {
   "cell_type": "code",
   "execution_count": 8,
   "id": "4d73f8e7",
   "metadata": {},
   "outputs": [
    {
     "data": {
      "text/plain": [
       "<Axes: xlabel='GRIP', ylabel='Density'>"
      ]
     },
     "execution_count": 8,
     "metadata": {},
     "output_type": "execute_result"
    },
    {
     "data": {
      "image/png": "[encoded data removed]",
      "text/plain": [
       "<Figure size 640x480 with 1 Axes>"
      ]
     },
     "metadata": {},
     "output_type": "display_data"
    }
   ],
   "source": [
    "sns.distplot(df['GRIP'], kde=True, bins=20)"
   ]
  },
  {
   "cell_type": "code",
   "execution_count": 9,
   "id": "7282e3d1",
   "metadata": {},
   "outputs": [
    {
     "data": {
      "text/plain": [
       "<Axes: xlabel='GRIP', ylabel='Count'>"
      ]
     },
     "execution_count": 9,
     "metadata": {},
     "output_type": "execute_result"
    },
    {
     "data": {
      "image/png": "[encoded data removed]",
      "text/plain": [
       "<Figure size 640x480 with 1 Axes>"
      ]
     },
     "metadata": {},
     "output_type": "display_data"
    }
   ],
   "source": [
    "sns.histplot(df['GRIP'], kde=True, bins=20)"
   ]
  },
  {
   "cell_type": "code",
   "execution_count": 10,
   "id": "cf1bcf66",
   "metadata": {},
   "outputs": [
    {
     "data": {
      "image/png": "[encoded data removed]",
      "text/plain": [
       "<Figure size 1200x800 with 4 Axes>"
      ]
     },
     "metadata": {},
     "output_type": "display_data"
    }
   ],
   "source": [
    "plt.figure(figsize=(12,8))\n",
    "\n",
    "for i in range(len(df.columns)):\n",
    "    plt.subplot(2,2,i+1)\n",
    "    column_name = df.columns[i]\n",
    "    sns.histplot(df[column_name], kde=True)"
   ]
  },
  {
   "cell_type": "code",
   "execution_count": 11,
   "id": "2abe5098",
   "metadata": {},
   "outputs": [
    {
     "data": {
      "image/png": "[encoded data removed]",
      "text/plain": [
       "<Figure size 1200x800 with 4 Axes>"
      ]
     },
     "metadata": {},
     "output_type": "display_data"
    }
   ],
   "source": [
    "plt.figure(figsize=(12,8))\n",
    "\n",
    "for i in range(len(df.columns)):\n",
    "    plt.subplot(2,2,i+1)\n",
    "    column_name = df.columns[i]\n",
    "    sns.boxplot(x=df[column_name])\n",
    "    plt.title(f\"{column_name} BoxPlot\")\n",
    "plt.tight_layout()"
   ]
  },
  {
   "cell_type": "code",
   "execution_count": 12,
   "id": "009e6268",
   "metadata": {},
   "outputs": [
    {
     "name": "stdout",
     "output_type": "stream",
     "text": [
      "Lower Threshold for Grip: 48.25.\n",
      "Upper Threshold for Grip: 170.25.\n",
      "No. of outliers in Grip: 6.\n",
      "\n",
      "Lower Threshold for Arm: 25.75.\n",
      "Upper Threshold for Arm: 129.75.\n",
      "No. of outliers in Arm: 4.\n",
      "\n",
      "Lower Threshold for Ratings: 17.174999999999997.\n",
      "Upper Threshold for Ratings: 66.175.\n",
      "No. of outliers in Ratings: 0.\n",
      "\n",
      "Lower Threshold for Sims: -3.83.\n",
      "Upper Threshold for Sims: 4.01.\n",
      "No. of outliers in Sims: 10.\n",
      "\n"
     ]
    }
   ],
   "source": [
    "dict_wo_outliers = {}\n",
    "\n",
    "for i in range(len(df.columns)):\n",
    "    column_name = df.columns[i]\n",
    "    \n",
    "    q1 = np.quantile(df[column_name], q=0.25)\n",
    "    q3 = np.quantile(df[column_name], q=0.75)\n",
    "    iqr = q3-q1\n",
    "\n",
    "    lower_thresh = q1-1.5*iqr\n",
    "    upper_thresh = q3+1.5*iqr\n",
    "    outliers = df[(df[column_name] < lower_thresh) | (df[column_name] > upper_thresh)]\n",
    "    dict_wo_outliers[column_name]= df[(df[column_name] > lower_thresh) & (df[column_name] < upper_thresh)]\n",
    "#   df_wo_outliers = df[(df[column_name] > lower_thresh) & (df[column_name] < upper_thresh)]\n",
    "    \n",
    "    print(f\"Lower Threshold for {column_name.title()}: {lower_thresh}.\")\n",
    "    print(f\"Upper Threshold for {column_name.title()}: {upper_thresh}.\")\n",
    "    print(f\"No. of outliers in {column_name.title()}: {len(outliers)}.\\n\")"
   ]
  },
  {
   "cell_type": "code",
   "execution_count": 25,
   "id": "2bb93707",
   "metadata": {},
   "outputs": [
    {
     "data": {
      "text/plain": [
       "{'GRIP':       GRIP    ARM  RATINGS  SIMS\n",
       " 5    171.0  125.5   46.600  4.38\n",
       " 23   189.0  122.0   49.266  4.87\n",
       " 114  173.5  117.0   54.200  0.68\n",
       " 117   29.0   19.0   28.000 -4.17\n",
       " 198  173.5  117.0   54.200  0.68\n",
       " 201   29.0   19.0   28.000 -4.17,\n",
       " 'ARM':       GRIP    ARM  RATINGS  SIMS\n",
       " 33    88.0   25.0     33.8 -2.05\n",
       " 55   153.0  132.0     42.0  5.17\n",
       " 117   29.0   19.0     28.0 -4.17\n",
       " 201   29.0   19.0     28.0 -4.17,\n",
       " 'RATINGS': Empty DataFrame\n",
       " Columns: [GRIP, ARM, RATINGS, SIMS]\n",
       " Index: [],\n",
       " 'SIMS':       GRIP    ARM  RATINGS  SIMS\n",
       " 5    171.0  125.5   46.600  4.38\n",
       " 23   189.0  122.0   49.266  4.87\n",
       " 28    82.0   39.0   31.300 -3.88\n",
       " 55   153.0  132.0   42.000  5.17\n",
       " 117   29.0   19.0   28.000 -4.17\n",
       " 118  135.0  101.5   38.400  4.52\n",
       " 135  141.0  113.0   35.500  4.95\n",
       " 201   29.0   19.0   28.000 -4.17\n",
       " 202  135.0  101.5   38.400  4.52\n",
       " 219  141.0  113.0   35.500  4.95}"
      ]
     },
     "execution_count": 25,
     "metadata": {},
     "output_type": "execute_result"
    }
   ],
   "source": [
    "dict_wo_outliers"
   ]
  },
  {
   "cell_type": "code",
   "execution_count": null,
   "id": "65386394",
   "metadata": {},
   "outputs": [],
   "source": []
  },
  {
   "cell_type": "code",
   "execution_count": 24,
   "id": "8e9f6b60",
   "metadata": {},
   "outputs": [
    {
     "name": "stdout",
     "output_type": "stream",
     "text": [
      "Lower Threshold for Grip: 48.25.\n",
      "Upper Threshold for Grip: 170.25.\n",
      "No. of outliers in Grip: 6.\n",
      "\n",
      "Lower Threshold for Arm: 25.75.\n",
      "Upper Threshold for Arm: 129.75.\n",
      "No. of outliers in Arm: 4.\n",
      "\n",
      "Lower Threshold for Ratings: 17.174999999999997.\n",
      "Upper Threshold for Ratings: 66.175.\n",
      "No. of outliers in Ratings: 0.\n",
      "\n",
      "Lower Threshold for Sims: -3.83.\n",
      "Upper Threshold for Sims: 4.01.\n",
      "No. of outliers in Sims: 10.\n",
      "\n"
     ]
    }
   ],
   "source": [
    "dict_wo_outliers = {}\n",
    "\n",
    "for i in range(len(df.columns)):\n",
    "    column_name = df.columns[i]\n",
    "    \n",
    "    q1 = np.quantile(df[column_name], q=0.25)\n",
    "    q3 = np.quantile(df[column_name], q=0.75)\n",
    "    iqr = q3-q1\n",
    "\n",
    "    lower_thresh = q1-1.5*iqr\n",
    "    upper_thresh = q3+1.5*iqr\n",
    "    outliers = df[(df[column_name] < lower_thresh) | (df[column_name] > upper_thresh)]\n",
    "    dict_wo_outliers[column_name]= outliers\n",
    "#   df_wo_outliers = df[(df[column_name] > lower_thresh) & (df[column_name] < upper_thresh)]\n",
    "    \n",
    "    print(f\"Lower Threshold for {column_name.title()}: {lower_thresh}.\")\n",
    "    print(f\"Upper Threshold for {column_name.title()}: {upper_thresh}.\")\n",
    "    print(f\"No. of outliers in {column_name.title()}: {len(outliers)}.\\n\")\n",
    "\n",
    "\n"
   ]
  },
  {
   "cell_type": "code",
   "execution_count": 13,
   "id": "609f2595",
   "metadata": {},
   "outputs": [
    {
     "data": {
      "text/html": [
       "<div>\n",
       "<style scoped>\n",
       "    .dataframe tbody tr th:only-of-type {\n",
       "        vertical-align: middle;\n",
       "    }\n",
       "\n",
       "    .dataframe tbody tr th {\n",
       "        vertical-align: top;\n",
       "    }\n",
       "\n",
       "    .dataframe thead th {\n",
       "        text-align: right;\n",
       "    }\n",
       "</style>\n",
       "<table border=\"1\" class=\"dataframe\">\n",
       "  <thead>\n",
       "    <tr style=\"text-align: right;\">\n",
       "      <th></th>\n",
       "      <th>GRIP</th>\n",
       "      <th>ARM</th>\n",
       "      <th>RATINGS</th>\n",
       "      <th>SIMS</th>\n",
       "    </tr>\n",
       "  </thead>\n",
       "  <tbody>\n",
       "    <tr>\n",
       "      <th>0</th>\n",
       "      <td>105.5</td>\n",
       "      <td>80.5</td>\n",
       "      <td>31.8</td>\n",
       "      <td>1.18</td>\n",
       "    </tr>\n",
       "    <tr>\n",
       "      <th>1</th>\n",
       "      <td>106.5</td>\n",
       "      <td>93.0</td>\n",
       "      <td>39.8</td>\n",
       "      <td>0.94</td>\n",
       "    </tr>\n",
       "    <tr>\n",
       "      <th>2</th>\n",
       "      <td>94.0</td>\n",
       "      <td>81.0</td>\n",
       "      <td>46.8</td>\n",
       "      <td>0.84</td>\n",
       "    </tr>\n",
       "    <tr>\n",
       "      <th>3</th>\n",
       "      <td>90.5</td>\n",
       "      <td>33.5</td>\n",
       "      <td>52.2</td>\n",
       "      <td>-2.45</td>\n",
       "    </tr>\n",
       "    <tr>\n",
       "      <th>4</th>\n",
       "      <td>104.0</td>\n",
       "      <td>47.5</td>\n",
       "      <td>31.2</td>\n",
       "      <td>1.00</td>\n",
       "    </tr>\n",
       "    <tr>\n",
       "      <th>...</th>\n",
       "      <td>...</td>\n",
       "      <td>...</td>\n",
       "      <td>...</td>\n",
       "      <td>...</td>\n",
       "    </tr>\n",
       "    <tr>\n",
       "      <th>270</th>\n",
       "      <td>105.0</td>\n",
       "      <td>73.0</td>\n",
       "      <td>51.4</td>\n",
       "      <td>-0.15</td>\n",
       "    </tr>\n",
       "    <tr>\n",
       "      <th>271</th>\n",
       "      <td>113.0</td>\n",
       "      <td>87.0</td>\n",
       "      <td>49.1</td>\n",
       "      <td>-0.25</td>\n",
       "    </tr>\n",
       "    <tr>\n",
       "      <th>272</th>\n",
       "      <td>133.5</td>\n",
       "      <td>96.5</td>\n",
       "      <td>44.6</td>\n",
       "      <td>2.27</td>\n",
       "    </tr>\n",
       "    <tr>\n",
       "      <th>273</th>\n",
       "      <td>89.5</td>\n",
       "      <td>63.5</td>\n",
       "      <td>37.8</td>\n",
       "      <td>-0.93</td>\n",
       "    </tr>\n",
       "    <tr>\n",
       "      <th>274</th>\n",
       "      <td>95.0</td>\n",
       "      <td>70.0</td>\n",
       "      <td>35.4</td>\n",
       "      <td>-0.58</td>\n",
       "    </tr>\n",
       "  </tbody>\n",
       "</table>\n",
       "<p>269 rows × 4 columns</p>\n",
       "</div>"
      ],
      "text/plain": [
       "      GRIP   ARM  RATINGS  SIMS\n",
       "0    105.5  80.5     31.8  1.18\n",
       "1    106.5  93.0     39.8  0.94\n",
       "2     94.0  81.0     46.8  0.84\n",
       "3     90.5  33.5     52.2 -2.45\n",
       "4    104.0  47.5     31.2  1.00\n",
       "..     ...   ...      ...   ...\n",
       "270  105.0  73.0     51.4 -0.15\n",
       "271  113.0  87.0     49.1 -0.25\n",
       "272  133.5  96.5     44.6  2.27\n",
       "273   89.5  63.5     37.8 -0.93\n",
       "274   95.0  70.0     35.4 -0.58\n",
       "\n",
       "[269 rows x 4 columns]"
      ]
     },
     "execution_count": 13,
     "metadata": {},
     "output_type": "execute_result"
    }
   ],
   "source": [
    "df_grip_wo_outliers = pd.DataFrame(dict_wo_outliers['GRIP'])\n",
    "df_grip_wo_outliers"
   ]
  },
  {
   "cell_type": "code",
   "execution_count": 14,
   "id": "3295a72a",
   "metadata": {},
   "outputs": [
    {
     "data": {
      "text/html": [
       "<div>\n",
       "<style scoped>\n",
       "    .dataframe tbody tr th:only-of-type {\n",
       "        vertical-align: middle;\n",
       "    }\n",
       "\n",
       "    .dataframe tbody tr th {\n",
       "        vertical-align: top;\n",
       "    }\n",
       "\n",
       "    .dataframe thead th {\n",
       "        text-align: right;\n",
       "    }\n",
       "</style>\n",
       "<table border=\"1\" class=\"dataframe\">\n",
       "  <thead>\n",
       "    <tr style=\"text-align: right;\">\n",
       "      <th></th>\n",
       "      <th>GRIP</th>\n",
       "      <th>ARM</th>\n",
       "      <th>RATINGS</th>\n",
       "      <th>SIMS</th>\n",
       "    </tr>\n",
       "  </thead>\n",
       "  <tbody>\n",
       "    <tr>\n",
       "      <th>0</th>\n",
       "      <td>105.5</td>\n",
       "      <td>80.5</td>\n",
       "      <td>31.8</td>\n",
       "      <td>1.18</td>\n",
       "    </tr>\n",
       "    <tr>\n",
       "      <th>1</th>\n",
       "      <td>106.5</td>\n",
       "      <td>93.0</td>\n",
       "      <td>39.8</td>\n",
       "      <td>0.94</td>\n",
       "    </tr>\n",
       "    <tr>\n",
       "      <th>2</th>\n",
       "      <td>94.0</td>\n",
       "      <td>81.0</td>\n",
       "      <td>46.8</td>\n",
       "      <td>0.84</td>\n",
       "    </tr>\n",
       "    <tr>\n",
       "      <th>3</th>\n",
       "      <td>90.5</td>\n",
       "      <td>33.5</td>\n",
       "      <td>52.2</td>\n",
       "      <td>-2.45</td>\n",
       "    </tr>\n",
       "    <tr>\n",
       "      <th>4</th>\n",
       "      <td>104.0</td>\n",
       "      <td>47.5</td>\n",
       "      <td>31.2</td>\n",
       "      <td>1.00</td>\n",
       "    </tr>\n",
       "    <tr>\n",
       "      <th>...</th>\n",
       "      <td>...</td>\n",
       "      <td>...</td>\n",
       "      <td>...</td>\n",
       "      <td>...</td>\n",
       "    </tr>\n",
       "    <tr>\n",
       "      <th>270</th>\n",
       "      <td>105.0</td>\n",
       "      <td>73.0</td>\n",
       "      <td>51.4</td>\n",
       "      <td>-0.15</td>\n",
       "    </tr>\n",
       "    <tr>\n",
       "      <th>271</th>\n",
       "      <td>113.0</td>\n",
       "      <td>87.0</td>\n",
       "      <td>49.1</td>\n",
       "      <td>-0.25</td>\n",
       "    </tr>\n",
       "    <tr>\n",
       "      <th>272</th>\n",
       "      <td>133.5</td>\n",
       "      <td>96.5</td>\n",
       "      <td>44.6</td>\n",
       "      <td>2.27</td>\n",
       "    </tr>\n",
       "    <tr>\n",
       "      <th>273</th>\n",
       "      <td>89.5</td>\n",
       "      <td>63.5</td>\n",
       "      <td>37.8</td>\n",
       "      <td>-0.93</td>\n",
       "    </tr>\n",
       "    <tr>\n",
       "      <th>274</th>\n",
       "      <td>95.0</td>\n",
       "      <td>70.0</td>\n",
       "      <td>35.4</td>\n",
       "      <td>-0.58</td>\n",
       "    </tr>\n",
       "  </tbody>\n",
       "</table>\n",
       "<p>271 rows × 4 columns</p>\n",
       "</div>"
      ],
      "text/plain": [
       "      GRIP   ARM  RATINGS  SIMS\n",
       "0    105.5  80.5     31.8  1.18\n",
       "1    106.5  93.0     39.8  0.94\n",
       "2     94.0  81.0     46.8  0.84\n",
       "3     90.5  33.5     52.2 -2.45\n",
       "4    104.0  47.5     31.2  1.00\n",
       "..     ...   ...      ...   ...\n",
       "270  105.0  73.0     51.4 -0.15\n",
       "271  113.0  87.0     49.1 -0.25\n",
       "272  133.5  96.5     44.6  2.27\n",
       "273   89.5  63.5     37.8 -0.93\n",
       "274   95.0  70.0     35.4 -0.58\n",
       "\n",
       "[271 rows x 4 columns]"
      ]
     },
     "execution_count": 14,
     "metadata": {},
     "output_type": "execute_result"
    }
   ],
   "source": [
    "df_arm_wo_outliers = pd.DataFrame(dict_wo_outliers['ARM'])\n",
    "df_arm_wo_outliers"
   ]
  },
  {
   "cell_type": "code",
   "execution_count": 15,
   "id": "0af16122",
   "metadata": {},
   "outputs": [
    {
     "data": {
      "text/plain": [
       "0      105.5\n",
       "1      106.5\n",
       "2       94.0\n",
       "3       90.5\n",
       "4      104.0\n",
       "       ...  \n",
       "187     94.5\n",
       "188     90.5\n",
       "189    111.5\n",
       "190    111.0\n",
       "191    119.0\n",
       "Name: GRIP, Length: 188, dtype: float64"
      ]
     },
     "execution_count": 15,
     "metadata": {},
     "output_type": "execute_result"
    }
   ],
   "source": [
    "testing_data = df_grip_wo_outliers['GRIP'].head(188)\n",
    "testing_data"
   ]
  },
  {
   "cell_type": "markdown",
   "id": "99f6dd6b",
   "metadata": {},
   "source": [
    "#### Hypothesis Framing for 2 sided t-test\n",
    "\n",
    "- H0: The sample mean is equal to the population mean\n",
    "- Ha: The sample mean is different from the population mean"
   ]
  },
  {
   "cell_type": "code",
   "execution_count": 16,
   "id": "a06b286d",
   "metadata": {},
   "outputs": [
    {
     "data": {
      "text/plain": [
       "108.82156133828997"
      ]
     },
     "execution_count": 16,
     "metadata": {},
     "output_type": "execute_result"
    }
   ],
   "source": [
    "pop_mean = df_grip_wo_outliers['GRIP'].mean()\n",
    "pop_mean"
   ]
  },
  {
   "cell_type": "code",
   "execution_count": 17,
   "id": "f5949bcf",
   "metadata": {},
   "outputs": [
    {
     "name": "stdout",
     "output_type": "stream",
     "text": [
      "T calculated: -0.19795712001867077.\n",
      "P Value: 0.8432936402213334.\n",
      "\n",
      "There is sufficient statistical evidence to fail to reject the Null Hypothesis.\n"
     ]
    }
   ],
   "source": [
    "# Calculating the p-value.\n",
    "\n",
    "alpha = 0.05\n",
    "t_cal,pval = stats.ttest_1samp(testing_data, popmean=108.82)\n",
    "\n",
    "print(f\"T calculated: {t_cal}.\")\n",
    "print(f\"P Value: {pval}.\\n\")\n",
    "\n",
    "if pval<alpha:\n",
    "    print(\"There is sufficient statistical evidence to reject the Null Hypothesis.\")\n",
    "else:\n",
    "    print(\"There is sufficient statistical evidence to fail to reject the Null Hypothesis.\")"
   ]
  },
  {
   "cell_type": "code",
   "execution_count": 18,
   "id": "aacfbd42",
   "metadata": {},
   "outputs": [
    {
     "name": "stdout",
     "output_type": "stream",
     "text": [
      "Lower t value: -1.9727310334056907.\n",
      "Upper t value: 1.9727310334056902.\n",
      "\n",
      "There is sufficient statistical evidence to fail to reject the Null Hypothesis.\n"
     ]
    }
   ],
   "source": [
    "# Calculating the t critical and compairing it with t calculated\n",
    "\n",
    "lower_t = stats.t.ppf(q=0.025, df=187)\n",
    "upper_t = stats.t.ppf(q=0.975, df=187)\n",
    "\n",
    "print(f\"Lower t value: {lower_t}.\")\n",
    "print(f\"Upper t value: {upper_t}.\\n\")\n",
    "\n",
    "\n",
    "if t_cal<lower_t:\n",
    "    print(\"There is sufficient statistical evidence to reject the Null Hypothesis.\")\n",
    "else:\n",
    "    print(\"There is sufficient statistical evidence to fail to reject the Null Hypothesis.\")"
   ]
  },
  {
   "cell_type": "markdown",
   "id": "b685a53a",
   "metadata": {},
   "source": [
    "#### Hypothesis Testing for One Sided t-test\n",
    "\n",
    "- H0: The sample mean is lesser than or equal to the population mean.\n",
    "- Ha: The sample mean is greater than the population mean."
   ]
  },
  {
   "cell_type": "markdown",
   "id": "8c34938a",
   "metadata": {},
   "source": [
    "#### Right Tailed Test"
   ]
  },
  {
   "cell_type": "code",
   "execution_count": 19,
   "id": "73dff4e4",
   "metadata": {},
   "outputs": [
    {
     "name": "stdout",
     "output_type": "stream",
     "text": [
      "T calculated: -0.19795712001867077.\n",
      "P Value: 0.5783531798893333.\n",
      "\n",
      "There is sufficient statistical evidence to fail to reject the Null Hypothesis.\n"
     ]
    }
   ],
   "source": [
    "#Using p value method\n",
    "\n",
    "t_cal, pval = stats.ttest_1samp(testing_data, popmean=108.82, alternative='greater')\n",
    "\n",
    "\n",
    "print(f\"T calculated: {t_cal}.\")\n",
    "print(f\"P Value: {pval}.\\n\")\n",
    "\n",
    "if pval<alpha:\n",
    "    print(\"There is sufficient statistical evidence to reject the Null Hypothesis.\")\n",
    "else:\n",
    "    print(\"There is sufficient statistical evidence to fail to reject the Null Hypothesis.\")"
   ]
  },
  {
   "cell_type": "code",
   "execution_count": 20,
   "id": "55c8c33e",
   "metadata": {},
   "outputs": [
    {
     "name": "stdout",
     "output_type": "stream",
     "text": [
      "T critical is 1.9727310334056902.\n",
      "\n",
      "There is sufficient statistical evidence to fail to reject the Null Hypothesis.\n"
     ]
    }
   ],
   "source": [
    "#Using t-score method\n",
    "\n",
    "t_cri = stats.t.ppf(q=0.975, df=187)\n",
    "\n",
    "print(f\"T critical is {t_cri}.\\n\")\n",
    "\n",
    "if t_cal>t_cri:\n",
    "    print(\"There is sufficient statistical evidence to reject the Null Hypothesis.\")\n",
    "else:\n",
    "    print(\"There is sufficient statistical evidence to fail to reject the Null Hypothesis.\")"
   ]
  },
  {
   "cell_type": "markdown",
   "id": "01db22ab",
   "metadata": {},
   "source": [
    "#### Left Tailed Test"
   ]
  },
  {
   "cell_type": "code",
   "execution_count": 21,
   "id": "a67c5a99",
   "metadata": {},
   "outputs": [
    {
     "name": "stdout",
     "output_type": "stream",
     "text": [
      "T calculated: -0.19795712001867077.\n",
      "P Value: 0.4216468201106667.\n",
      "\n",
      "There is sufficient statistical evidence to fail to reject the Null Hypothesis.\n"
     ]
    }
   ],
   "source": [
    "# Using p value method\n",
    "\n",
    "t_cal, pval = stats.ttest_1samp(testing_data, popmean=108.82, alternative='less')\n",
    "\n",
    "\n",
    "print(f\"T calculated: {t_cal}.\")\n",
    "print(f\"P Value: {pval}.\\n\")\n",
    "\n",
    "if pval<alpha:\n",
    "    print(\"There is sufficient statistical evidence to reject the Null Hypothesis.\")\n",
    "else:\n",
    "    print(\"There is sufficient statistical evidence to fail to reject the Null Hypothesis.\")"
   ]
  },
  {
   "cell_type": "code",
   "execution_count": 22,
   "id": "5030cda5",
   "metadata": {},
   "outputs": [
    {
     "name": "stdout",
     "output_type": "stream",
     "text": [
      "T critical is -1.6530428889457813.\n",
      "\n",
      "There is sufficient statistical evidence to fail to reject the Null Hypothesis.\n"
     ]
    }
   ],
   "source": [
    "# Using t score method\n",
    "\n",
    "t_cri = stats.t.ppf(q=0.05, df=187)\n",
    "\n",
    "print(f\"T critical is {t_cri}.\\n\")\n",
    "\n",
    "if t_cal<t_cri:\n",
    "    print(\"There is sufficient statistical evidence to reject the Null Hypothesis.\")\n",
    "else:\n",
    "    print(\"There is sufficient statistical evidence to fail to reject the Null Hypothesis.\")"
   ]
  },
  {
   "cell_type": "markdown",
   "id": "ffdf621d",
   "metadata": {},
   "source": [
    "- Since all the test results are the same i.e We fail to reject the Null Hypothesis.\n",
    "- This means that we can say the sample mean is the same as the population mean with a significance level of 5%."
   ]
  },
  {
   "cell_type": "markdown",
   "id": "afa8c474",
   "metadata": {},
   "source": [
    "#### Calculating Confidence Intervals"
   ]
  },
  {
   "cell_type": "code",
   "execution_count": 23,
   "id": "e237fadf",
   "metadata": {},
   "outputs": [
    {
     "name": "stdout",
     "output_type": "stream",
     "text": [
      "Lower Range: 105.51520115519503.\n",
      "Upper Range: 111.52203288735816.\n"
     ]
    }
   ],
   "source": [
    "se = testing_data.std()/math.sqrt(len(testing_data))\n",
    "\n",
    "lower_range, upper_range = stats.t.interval(alpha=0.95, df=187, loc=testing_data.mean(), scale=se)\n",
    "\n",
    "print(f\"Lower Range: {lower_range}.\")\n",
    "print(f\"Upper Range: {upper_range}.\")"
   ]
  },
  {
   "cell_type": "markdown",
   "id": "d7cf6ebe",
   "metadata": {},
   "source": [
    "#### We can say with 95% Confidence that the population mean lies between 105.52 and 111.52"
   ]
  },
  {
   "cell_type": "code",
   "execution_count": null,
   "id": "fc0d2f67",
   "metadata": {},
   "outputs": [],
   "source": []
  },
  {
   "cell_type": "code",
   "execution_count": null,
   "id": "c9fa7824",
   "metadata": {},
   "outputs": [],
   "source": []
  },
  {
   "cell_type": "code",
   "execution_count": null,
   "id": "68f675e7",
   "metadata": {},
   "outputs": [],
   "source": []
  },
  {
   "cell_type": "code",
   "execution_count": null,
   "id": "4eae5191",
   "metadata": {},
   "outputs": [],
   "source": []
  },
  {
   "cell_type": "code",
   "execution_count": null,
   "id": "25eab3a2",
   "metadata": {},
   "outputs": [],
   "source": []
  },
  {
   "cell_type": "code",
   "execution_count": null,
   "id": "ed68fd70",
   "metadata": {},
   "outputs": [],
   "source": []
  },
  {
   "cell_type": "code",
   "execution_count": null,
   "id": "8ed18a61",
   "metadata": {},
   "outputs": [],
   "source": []
  },
  {
   "cell_type": "code",
   "execution_count": null,
   "id": "9c21562b",
   "metadata": {},
   "outputs": [],
   "source": []
  },
  {
   "cell_type": "code",
   "execution_count": null,
   "id": "f53be6e3",
   "metadata": {},
   "outputs": [],
   "source": []
  },
  {
   "cell_type": "code",
   "execution_count": null,
   "id": "9c4b645a",
   "metadata": {},
   "outputs": [],
   "source": []
  },
  {
   "cell_type": "code",
   "execution_count": null,
   "id": "3bf6c21c",
   "metadata": {},
   "outputs": [],
   "source": []
  },
  {
   "cell_type": "code",
   "execution_count": null,
   "id": "038158a1",
   "metadata": {},
   "outputs": [],
   "source": []
  },
  {
   "cell_type": "code",
   "execution_count": null,
   "id": "b27a5a0b",
   "metadata": {},
   "outputs": [],
   "source": []
  },
  {
   "cell_type": "code",
   "execution_count": null,
   "id": "0a118ec3",
   "metadata": {},
   "outputs": [],
   "source": []
  },
  {
   "cell_type": "code",
   "execution_count": null,
   "id": "e890486e",
   "metadata": {},
   "outputs": [],
   "source": []
  }
 ],
 "metadata": {
  "kernelspec": {
   "display_name": "Python 3 (ipykernel)",
   "language": "python",
   "name": "python3"
  },
  "language_info": {
   "codemirror_mode": {
    "name": "ipython",
    "version": 3
   },
   "file_extension": ".py",
   "mimetype": "text/x-python",
   "name": "python",
   "nbconvert_exporter": "python",
   "pygments_lexer": "ipython3",
   "version": "3.11.4"
  }
 },
 "nbformat": 4,
 "nbformat_minor": 5
}
