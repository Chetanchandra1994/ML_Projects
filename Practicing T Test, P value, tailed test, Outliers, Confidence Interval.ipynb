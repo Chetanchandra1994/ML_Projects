{
 "cells": [
  {
   "cell_type": "code",
   "execution_count": 17,
   "id": "0c671ecd",
   "metadata": {},
   "outputs": [],
   "source": [
    "import numpy as np\n",
    "import pandas as pd\n",
    "import scipy.stats as stats\n",
    "import math\n",
    "import warnings\n",
    "import matplotlib.pyplot as plt\n",
    "import seaborn as sns\n",
    "\n",
    "warnings.filterwarnings(\"ignore\")\n"
   ]
  },
  {
   "cell_type": "code",
   "execution_count": 18,
   "id": "b207114a",
   "metadata": {},
   "outputs": [],
   "source": [
    "# Read the dataset\n",
    "df = pd.read_excel(\"Case Study_1 dataset.xlsx\")"
   ]
  },
  {
   "cell_type": "code",
   "execution_count": 20,
   "id": "d122ac15",
   "metadata": {},
   "outputs": [],
   "source": [
    "# Detect outliers using IQR method\n",
    "dict_iqr_outliers = {}\n",
    "for column in df.columns:\n",
    "    q1 = np.quantile(df[column], q=0.25)\n",
    "    q3 = np.quantile(df[column], q=0.75)\n",
    "    iqr = q3 - q1\n",
    "    lower_thresh = q1 - 1.5 * iqr\n",
    "    upper_thresh = q3 + 1.5 * iqr\n",
    "    outliers_iqr = df[(df[column] < lower_thresh) | (df[column] > upper_thresh)]\n",
    "    dict_iqr_outliers[column] = outliers_iqr"
   ]
  },
  {
   "cell_type": "code",
   "execution_count": 26,
   "id": "3048b9af",
   "metadata": {},
   "outputs": [
    {
     "data": {
      "text/html": [
       "<div>\n",
       "<style scoped>\n",
       "    .dataframe tbody tr th:only-of-type {\n",
       "        vertical-align: middle;\n",
       "    }\n",
       "\n",
       "    .dataframe tbody tr th {\n",
       "        vertical-align: top;\n",
       "    }\n",
       "\n",
       "    .dataframe thead th {\n",
       "        text-align: right;\n",
       "    }\n",
       "</style>\n",
       "<table border=\"1\" class=\"dataframe\">\n",
       "  <thead>\n",
       "    <tr style=\"text-align: right;\">\n",
       "      <th></th>\n",
       "      <th>GRIP</th>\n",
       "      <th>ARM</th>\n",
       "      <th>RATINGS</th>\n",
       "      <th>SIMS</th>\n",
       "    </tr>\n",
       "  </thead>\n",
       "  <tbody>\n",
       "    <tr>\n",
       "      <th>5</th>\n",
       "      <td>171.0</td>\n",
       "      <td>125.5</td>\n",
       "      <td>46.600</td>\n",
       "      <td>4.38</td>\n",
       "    </tr>\n",
       "    <tr>\n",
       "      <th>23</th>\n",
       "      <td>189.0</td>\n",
       "      <td>122.0</td>\n",
       "      <td>49.266</td>\n",
       "      <td>4.87</td>\n",
       "    </tr>\n",
       "    <tr>\n",
       "      <th>28</th>\n",
       "      <td>82.0</td>\n",
       "      <td>39.0</td>\n",
       "      <td>31.300</td>\n",
       "      <td>-3.88</td>\n",
       "    </tr>\n",
       "    <tr>\n",
       "      <th>55</th>\n",
       "      <td>153.0</td>\n",
       "      <td>132.0</td>\n",
       "      <td>42.000</td>\n",
       "      <td>5.17</td>\n",
       "    </tr>\n",
       "    <tr>\n",
       "      <th>117</th>\n",
       "      <td>29.0</td>\n",
       "      <td>19.0</td>\n",
       "      <td>28.000</td>\n",
       "      <td>-4.17</td>\n",
       "    </tr>\n",
       "    <tr>\n",
       "      <th>118</th>\n",
       "      <td>135.0</td>\n",
       "      <td>101.5</td>\n",
       "      <td>38.400</td>\n",
       "      <td>4.52</td>\n",
       "    </tr>\n",
       "    <tr>\n",
       "      <th>135</th>\n",
       "      <td>141.0</td>\n",
       "      <td>113.0</td>\n",
       "      <td>35.500</td>\n",
       "      <td>4.95</td>\n",
       "    </tr>\n",
       "    <tr>\n",
       "      <th>201</th>\n",
       "      <td>29.0</td>\n",
       "      <td>19.0</td>\n",
       "      <td>28.000</td>\n",
       "      <td>-4.17</td>\n",
       "    </tr>\n",
       "    <tr>\n",
       "      <th>202</th>\n",
       "      <td>135.0</td>\n",
       "      <td>101.5</td>\n",
       "      <td>38.400</td>\n",
       "      <td>4.52</td>\n",
       "    </tr>\n",
       "    <tr>\n",
       "      <th>219</th>\n",
       "      <td>141.0</td>\n",
       "      <td>113.0</td>\n",
       "      <td>35.500</td>\n",
       "      <td>4.95</td>\n",
       "    </tr>\n",
       "  </tbody>\n",
       "</table>\n",
       "</div>"
      ],
      "text/plain": [
       "      GRIP    ARM  RATINGS  SIMS\n",
       "5    171.0  125.5   46.600  4.38\n",
       "23   189.0  122.0   49.266  4.87\n",
       "28    82.0   39.0   31.300 -3.88\n",
       "55   153.0  132.0   42.000  5.17\n",
       "117   29.0   19.0   28.000 -4.17\n",
       "118  135.0  101.5   38.400  4.52\n",
       "135  141.0  113.0   35.500  4.95\n",
       "201   29.0   19.0   28.000 -4.17\n",
       "202  135.0  101.5   38.400  4.52\n",
       "219  141.0  113.0   35.500  4.95"
      ]
     },
     "execution_count": 26,
     "metadata": {},
     "output_type": "execute_result"
    }
   ],
   "source": [
    "outliers_iqr"
   ]
  },
  {
   "cell_type": "code",
   "execution_count": 27,
   "id": "efefdde1",
   "metadata": {},
   "outputs": [
    {
     "data": {
      "text/html": [
       "<div>\n",
       "<style scoped>\n",
       "    .dataframe tbody tr th:only-of-type {\n",
       "        vertical-align: middle;\n",
       "    }\n",
       "\n",
       "    .dataframe tbody tr th {\n",
       "        vertical-align: top;\n",
       "    }\n",
       "\n",
       "    .dataframe thead th {\n",
       "        text-align: right;\n",
       "    }\n",
       "</style>\n",
       "<table border=\"1\" class=\"dataframe\">\n",
       "  <thead>\n",
       "    <tr style=\"text-align: right;\">\n",
       "      <th></th>\n",
       "      <th>GRIP</th>\n",
       "      <th>ARM</th>\n",
       "      <th>RATINGS</th>\n",
       "      <th>SIMS</th>\n",
       "    </tr>\n",
       "  </thead>\n",
       "  <tbody>\n",
       "    <tr>\n",
       "      <th>23</th>\n",
       "      <td>189.0</td>\n",
       "      <td>122.0</td>\n",
       "      <td>49.266</td>\n",
       "      <td>4.87</td>\n",
       "    </tr>\n",
       "    <tr>\n",
       "      <th>55</th>\n",
       "      <td>153.0</td>\n",
       "      <td>132.0</td>\n",
       "      <td>42.000</td>\n",
       "      <td>5.17</td>\n",
       "    </tr>\n",
       "    <tr>\n",
       "      <th>135</th>\n",
       "      <td>141.0</td>\n",
       "      <td>113.0</td>\n",
       "      <td>35.500</td>\n",
       "      <td>4.95</td>\n",
       "    </tr>\n",
       "    <tr>\n",
       "      <th>219</th>\n",
       "      <td>141.0</td>\n",
       "      <td>113.0</td>\n",
       "      <td>35.500</td>\n",
       "      <td>4.95</td>\n",
       "    </tr>\n",
       "  </tbody>\n",
       "</table>\n",
       "</div>"
      ],
      "text/plain": [
       "      GRIP    ARM  RATINGS  SIMS\n",
       "23   189.0  122.0   49.266  4.87\n",
       "55   153.0  132.0   42.000  5.17\n",
       "135  141.0  113.0   35.500  4.95\n",
       "219  141.0  113.0   35.500  4.95"
      ]
     },
     "execution_count": 27,
     "metadata": {},
     "output_type": "execute_result"
    }
   ],
   "source": [
    "outliers_z"
   ]
  },
  {
   "cell_type": "code",
   "execution_count": 22,
   "id": "6aa22dc1",
   "metadata": {},
   "outputs": [],
   "source": [
    "# Detect outliers using Z-score method\n",
    "dict_zscore_outliers = {}\n",
    "for column in df.columns:\n",
    "    z_scores = np.abs(stats.zscore(df[column]))\n",
    "    outliers_z = df[(z_scores > 3)]\n",
    "    dict_zscore_outliers[column] = outliers_z"
   ]
  },
  {
   "cell_type": "code",
   "execution_count": 23,
   "id": "88206513",
   "metadata": {},
   "outputs": [],
   "source": [
    "# Calculate p-value and T calculated value for GRIP column\n",
    "alpha = 0.05\n",
    "pop_mean = df['GRIP'].mean()\n",
    "t_cal, pval = stats.ttest_1samp(df['GRIP'], popmean=pop_mean)"
   ]
  },
  {
   "cell_type": "code",
   "execution_count": 24,
   "id": "33486df4",
   "metadata": {},
   "outputs": [
    {
     "data": {
      "text/plain": [
       "0.0"
      ]
     },
     "execution_count": 24,
     "metadata": {},
     "output_type": "execute_result"
    }
   ],
   "source": [
    "t_cal"
   ]
  },
  {
   "cell_type": "code",
   "execution_count": 25,
   "id": "c80f533b",
   "metadata": {},
   "outputs": [
    {
     "data": {
      "text/plain": [
       "1.0"
      ]
     },
     "execution_count": 25,
     "metadata": {},
     "output_type": "execute_result"
    }
   ],
   "source": [
    "pval"
   ]
  },
  {
   "cell_type": "code",
   "execution_count": 35,
   "id": "d37851f1",
   "metadata": {},
   "outputs": [
    {
     "ename": "NameError",
     "evalue": "name 'sample_data' is not defined",
     "output_type": "error",
     "traceback": [
      "\u001b[1;31m---------------------------------------------------------------------------\u001b[0m",
      "\u001b[1;31mNameError\u001b[0m                                 Traceback (most recent call last)",
      "Cell \u001b[1;32mIn[35], line 8\u001b[0m\n\u001b[0;32m      1\u001b[0m \u001b[38;5;66;03m# Perform two-sided t-test\u001b[39;00m\n\u001b[0;32m      2\u001b[0m \u001b[38;5;66;03m# Frame Hypothesis for two-sided t-test\u001b[39;00m\n\u001b[0;32m      3\u001b[0m \u001b[38;5;66;03m# H0: The sample mean is equal to the population mean\u001b[39;00m\n\u001b[0;32m      4\u001b[0m \u001b[38;5;66;03m# Ha: The sample mean is different from the population mean\u001b[39;00m\n\u001b[0;32m      6\u001b[0m \u001b[38;5;28;01mimport\u001b[39;00m \u001b[38;5;21;01mscipy\u001b[39;00m\u001b[38;5;21;01m.\u001b[39;00m\u001b[38;5;21;01mstats\u001b[39;00m \u001b[38;5;28;01mas\u001b[39;00m \u001b[38;5;21;01mstats\u001b[39;00m\n\u001b[1;32m----> 8\u001b[0m t_stat, p_value \u001b[38;5;241m=\u001b[39m stats\u001b[38;5;241m.\u001b[39mttest_1samp(sample_data, popmean\u001b[38;5;241m=\u001b[39mpop_mean)\n\u001b[0;32m     10\u001b[0m \u001b[38;5;66;03m# Print results\u001b[39;00m\n\u001b[0;32m     11\u001b[0m \u001b[38;5;28mprint\u001b[39m(\u001b[38;5;124m\"\u001b[39m\u001b[38;5;124mTwo-sided t-test:\u001b[39m\u001b[38;5;124m\"\u001b[39m)\n",
      "\u001b[1;31mNameError\u001b[0m: name 'sample_data' is not defined"
     ]
    }
   ],
   "source": [
    "# Perform two-sided t-test\n",
    "# Frame Hypothesis for two-sided t-test\n",
    "# H0: The sample mean is equal to the population mean\n",
    "# Ha: The sample mean is different from the population mean\n",
    "\n",
    "\n",
    "\n",
    "import scipy.stats as stats\n",
    "\n",
    "pop_mean = df['GRIP'].mean()\n",
    "sample_data = df_grip_wo_outliers['GRIP']\n",
    "df_grip_wo_outliers = pd.DataFrame(dict_wo_outliers['GRIP'])\n",
    "df_grip_wo_outliers\n",
    "\n",
    "t_stat, p_value = stats.ttest_1samp(sample_data, popmean=pop_mean)\n",
    "\n",
    "# Print results\n",
    "print(\"Two-sided t-test:\")\n",
    "print(f\"T-statistic: {t_stat}\")\n",
    "print(f\"P-value: {p_value}\")\n",
    "if p_value < 0.05:\n",
    "    print(\"Reject the null hypothesis (H0: The sample mean is equal to the population mean)\")\n",
    "else:\n",
    "    print(\"Fail to reject the null hypothesis (H0: The sample mean is equal to the population mean)\")\n",
    "\n"
   ]
  },
  {
   "cell_type": "code",
   "execution_count": null,
   "id": "a72d581d",
   "metadata": {},
   "outputs": [],
   "source": [
    "# Perform one-sided t-test (Right Tailed Test)\n",
    "# Frame Hypothesis for one-sided t-test - Right Tailed Test\n",
    "# H0: The sample mean is less than or equal to the population mean\n",
    "# Ha: The sample mean is greater than the population mean\n",
    "\n",
    "t_stat_right, p_value_right = stats.ttest_1samp(sample_data, popmean=pop_mean, alternative='greater')\n",
    "\n",
    "# Print results\n",
    "print(\"\\nOne-sided t-test - Right Tailed Test:\")\n",
    "print(f\"T-statistic: {t_stat_right}\")\n",
    "print(f\"P-value: {p_value_right}\")\n",
    "if p_value_right < 0.05:\n",
    "    print(\"Reject the null hypothesis (H0: The sample mean is less than or equal to the population mean)\")\n",
    "else:\n",
    "    print(\"Fail to reject the null hypothesis (H0: The sample mean is less than or equal to the population mean)\")\n",
    "\n"
   ]
  },
  {
   "cell_type": "code",
   "execution_count": null,
   "id": "a97e145b",
   "metadata": {},
   "outputs": [],
   "source": [
    "# Perform one-sided t-test (Left Tailed Test)\n",
    "# Frame Hypothesis for one-sided t-test - Left Tailed Test\n",
    "# H0: The sample mean is greater than or equal to the population mean\n",
    "# Ha: The sample mean is less than the population mean\n",
    "\n",
    "t_stat_left, p_value_left = stats.ttest_1samp(sample_data, popmean=pop_mean, alternative='less')\n",
    "\n",
    "# Print results\n",
    "print(\"\\nOne-sided t-test - Left Tailed Test:\")\n",
    "print(f\"T-statistic: {t_stat_left}\")\n",
    "print(f\"P-value: {p_value_left}\")\n",
    "if p_value_left < 0.05:\n",
    "    print(\"Reject the null hypothesis (H0: The sample mean is greater than or equal to the population mean)\")\n",
    "else:\n",
    "    print(\"Fail to reject the null hypothesis (H0: The sample mean is greater than or equal to the population mean)\")\n"
   ]
  },
  {
   "cell_type": "code",
   "execution_count": 28,
   "id": "db39b4a4",
   "metadata": {},
   "outputs": [],
   "source": [
    "# Calculate Confidence Intervals\n",
    "se = df['GRIP'].std() / np.sqrt(len(df['GRIP']))\n",
    "lower_range, upper_range = stats.t.interval(alpha=0.95, df=len(df['GRIP'])-1, loc=df['GRIP'].mean(), scale=se)\n",
    "\n"
   ]
  },
  {
   "cell_type": "code",
   "execution_count": 34,
   "id": "fc354d74",
   "metadata": {},
   "outputs": [
    {
     "name": "stdout",
     "output_type": "stream",
     "text": [
      "Outliers detected using IQR method:\n",
      "\n",
      "{'GRIP':       GRIP    ARM  RATINGS  SIMS\n",
      "5    171.0  125.5   46.600  4.38\n",
      "23   189.0  122.0   49.266  4.87\n",
      "114  173.5  117.0   54.200  0.68\n",
      "117   29.0   19.0   28.000 -4.17\n",
      "198  173.5  117.0   54.200  0.68\n",
      "201   29.0   19.0   28.000 -4.17, 'ARM':       GRIP    ARM  RATINGS  SIMS\n",
      "33    88.0   25.0     33.8 -2.05\n",
      "55   153.0  132.0     42.0  5.17\n",
      "117   29.0   19.0     28.0 -4.17\n",
      "201   29.0   19.0     28.0 -4.17, 'RATINGS': Empty DataFrame\n",
      "Columns: [GRIP, ARM, RATINGS, SIMS]\n",
      "Index: [], 'SIMS':       GRIP    ARM  RATINGS  SIMS\n",
      "5    171.0  125.5   46.600  4.38\n",
      "23   189.0  122.0   49.266  4.87\n",
      "28    82.0   39.0   31.300 -3.88\n",
      "55   153.0  132.0   42.000  5.17\n",
      "117   29.0   19.0   28.000 -4.17\n",
      "118  135.0  101.5   38.400  4.52\n",
      "135  141.0  113.0   35.500  4.95\n",
      "201   29.0   19.0   28.000 -4.17\n",
      "202  135.0  101.5   38.400  4.52\n",
      "219  141.0  113.0   35.500  4.95}\n",
      "\n",
      "\n",
      "Outliers detected using Z-score method:\n",
      "\n",
      "{'GRIP':       GRIP    ARM  RATINGS  SIMS\n",
      "23   189.0  122.0   49.266  4.87\n",
      "117   29.0   19.0   28.000 -4.17\n",
      "201   29.0   19.0   28.000 -4.17, 'ARM':      GRIP   ARM  RATINGS  SIMS\n",
      "117  29.0  19.0     28.0 -4.17\n",
      "201  29.0  19.0     28.0 -4.17, 'RATINGS': Empty DataFrame\n",
      "Columns: [GRIP, ARM, RATINGS, SIMS]\n",
      "Index: [], 'SIMS':       GRIP    ARM  RATINGS  SIMS\n",
      "23   189.0  122.0   49.266  4.87\n",
      "55   153.0  132.0   42.000  5.17\n",
      "135  141.0  113.0   35.500  4.95\n",
      "219  141.0  113.0   35.500  4.95}\n",
      "\n",
      "\n",
      "P-value: 1.0\n",
      "T calculated value: 0.0\n",
      "\n",
      "Confidence Intervals:\n",
      "Lower Range: 106.5238377950194\n",
      "Upper Range: 111.93434402316242\n"
     ]
    }
   ],
   "source": [
    "# Print results\n",
    "print(\"Outliers detected using IQR method:\")\n",
    "print()  # Empty line for readability\n",
    "print(dict_iqr_outliers)\n",
    "print()  # Empty line for readability\n",
    "print(\"\\nOutliers detected using Z-score method:\")\n",
    "print()  # Empty line for readability\n",
    "print(dict_zscore_outliers)\n",
    "print()  # Empty line for readability\n",
    "print(\"\\nP-value:\", pval)\n",
    "print(\"T calculated value:\", t_cal)\n",
    "print(\"\\nConfidence Intervals:\")\n",
    "print(\"Lower Range:\", lower_range)\n",
    "print(\"Upper Range:\", upper_range)\n"
   ]
  },
  {
   "cell_type": "code",
   "execution_count": null,
   "id": "ae882fb6",
   "metadata": {},
   "outputs": [],
   "source": []
  },
  {
   "cell_type": "code",
   "execution_count": null,
   "id": "b96a2669",
   "metadata": {},
   "outputs": [],
   "source": []
  },
  {
   "cell_type": "code",
   "execution_count": null,
   "id": "072f65f3",
   "metadata": {},
   "outputs": [],
   "source": []
  },
  {
   "cell_type": "code",
   "execution_count": null,
   "id": "b0e60b62",
   "metadata": {},
   "outputs": [],
   "source": []
  },
  {
   "cell_type": "code",
   "execution_count": null,
   "id": "63b57907",
   "metadata": {},
   "outputs": [],
   "source": []
  },
  {
   "cell_type": "code",
   "execution_count": null,
   "id": "c8de4303",
   "metadata": {},
   "outputs": [],
   "source": []
  },
  {
   "cell_type": "code",
   "execution_count": null,
   "id": "0318d974",
   "metadata": {},
   "outputs": [],
   "source": []
  },
  {
   "cell_type": "code",
   "execution_count": null,
   "id": "1d9f44e3",
   "metadata": {},
   "outputs": [],
   "source": []
  },
  {
   "cell_type": "code",
   "execution_count": null,
   "id": "392481b8",
   "metadata": {},
   "outputs": [],
   "source": []
  },
  {
   "cell_type": "code",
   "execution_count": null,
   "id": "37b6196e",
   "metadata": {},
   "outputs": [],
   "source": []
  },
  {
   "cell_type": "code",
   "execution_count": null,
   "id": "891813f6",
   "metadata": {},
   "outputs": [],
   "source": []
  },
  {
   "cell_type": "code",
   "execution_count": null,
   "id": "3f07d349",
   "metadata": {},
   "outputs": [],
   "source": []
  },
  {
   "cell_type": "code",
   "execution_count": null,
   "id": "78a8c04f",
   "metadata": {},
   "outputs": [],
   "source": []
  },
  {
   "cell_type": "code",
   "execution_count": null,
   "id": "4de183ed",
   "metadata": {},
   "outputs": [],
   "source": []
  },
  {
   "cell_type": "code",
   "execution_count": null,
   "id": "44aa56a3",
   "metadata": {},
   "outputs": [],
   "source": []
  },
  {
   "cell_type": "code",
   "execution_count": null,
   "id": "760799a3",
   "metadata": {},
   "outputs": [],
   "source": []
  },
  {
   "cell_type": "code",
   "execution_count": null,
   "id": "e6deeb38",
   "metadata": {},
   "outputs": [],
   "source": []
  },
  {
   "cell_type": "code",
   "execution_count": null,
   "id": "27919067",
   "metadata": {},
   "outputs": [],
   "source": []
  }
 ],
 "metadata": {
  "kernelspec": {
   "display_name": "Python 3 (ipykernel)",
   "language": "python",
   "name": "python3"
  },
  "language_info": {
   "codemirror_mode": {
    "name": "ipython",
    "version": 3
   },
   "file_extension": ".py",
   "mimetype": "text/x-python",
   "name": "python",
   "nbconvert_exporter": "python",
   "pygments_lexer": "ipython3",
   "version": "3.11.4"
  }
 },
 "nbformat": 4,
 "nbformat_minor": 5
}
